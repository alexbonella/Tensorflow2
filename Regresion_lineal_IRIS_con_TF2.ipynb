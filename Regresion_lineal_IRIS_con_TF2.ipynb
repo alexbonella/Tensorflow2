{
  "nbformat": 4,
  "nbformat_minor": 0,
  "metadata": {
    "colab": {
      "name": "Regresion lineal IRIS con TF2.ipynb",
      "version": "0.3.2",
      "provenance": [],
      "collapsed_sections": []
    },
    "kernelspec": {
      "name": "python3",
      "display_name": "Python 3"
    }
  },
  "cells": [
    {
      "cell_type": "code",
      "metadata": {
        "id": "U4NG-nQg-KP3",
        "colab_type": "code",
        "colab": {
          "base_uri": "https://localhost:8080/",
          "height": 377
        },
        "outputId": "6904a1cc-efda-49ac-8681-29d312649e33"
      },
      "source": [
        "# Instalamos tensorflow 2 en la GPU (Google_colab -->>> Gratis )\n",
        "\n",
        "!pip install tensorflow-gpu==2.0.0-beta1"
      ],
      "execution_count": 1,
      "outputs": [
        {
          "output_type": "stream",
          "text": [
            "Requirement already satisfied: tensorflow-gpu==2.0.0-beta1 in /usr/local/lib/python3.6/dist-packages (2.0.0b1)\n",
            "Requirement already satisfied: termcolor>=1.1.0 in /usr/local/lib/python3.6/dist-packages (from tensorflow-gpu==2.0.0-beta1) (1.1.0)\n",
            "Requirement already satisfied: six>=1.10.0 in /usr/local/lib/python3.6/dist-packages (from tensorflow-gpu==2.0.0-beta1) (1.12.0)\n",
            "Requirement already satisfied: tb-nightly<1.14.0a20190604,>=1.14.0a20190603 in /usr/local/lib/python3.6/dist-packages (from tensorflow-gpu==2.0.0-beta1) (1.14.0a20190603)\n",
            "Requirement already satisfied: tf-estimator-nightly<1.14.0.dev2019060502,>=1.14.0.dev2019060501 in /usr/local/lib/python3.6/dist-packages (from tensorflow-gpu==2.0.0-beta1) (1.14.0.dev2019060501)\n",
            "Requirement already satisfied: keras-applications>=1.0.6 in /usr/local/lib/python3.6/dist-packages (from tensorflow-gpu==2.0.0-beta1) (1.0.8)\n",
            "Requirement already satisfied: protobuf>=3.6.1 in /usr/local/lib/python3.6/dist-packages (from tensorflow-gpu==2.0.0-beta1) (3.7.1)\n",
            "Requirement already satisfied: wrapt>=1.11.1 in /usr/local/lib/python3.6/dist-packages (from tensorflow-gpu==2.0.0-beta1) (1.11.2)\n",
            "Requirement already satisfied: wheel>=0.26 in /usr/local/lib/python3.6/dist-packages (from tensorflow-gpu==2.0.0-beta1) (0.33.4)\n",
            "Requirement already satisfied: gast>=0.2.0 in /usr/local/lib/python3.6/dist-packages (from tensorflow-gpu==2.0.0-beta1) (0.2.2)\n",
            "Requirement already satisfied: google-pasta>=0.1.6 in /usr/local/lib/python3.6/dist-packages (from tensorflow-gpu==2.0.0-beta1) (0.1.7)\n",
            "Requirement already satisfied: astor>=0.6.0 in /usr/local/lib/python3.6/dist-packages (from tensorflow-gpu==2.0.0-beta1) (0.8.0)\n",
            "Requirement already satisfied: numpy<2.0,>=1.14.5 in /usr/local/lib/python3.6/dist-packages (from tensorflow-gpu==2.0.0-beta1) (1.16.4)\n",
            "Requirement already satisfied: keras-preprocessing>=1.0.5 in /usr/local/lib/python3.6/dist-packages (from tensorflow-gpu==2.0.0-beta1) (1.1.0)\n",
            "Requirement already satisfied: grpcio>=1.8.6 in /usr/local/lib/python3.6/dist-packages (from tensorflow-gpu==2.0.0-beta1) (1.15.0)\n",
            "Requirement already satisfied: absl-py>=0.7.0 in /usr/local/lib/python3.6/dist-packages (from tensorflow-gpu==2.0.0-beta1) (0.7.1)\n",
            "Requirement already satisfied: werkzeug>=0.11.15 in /usr/local/lib/python3.6/dist-packages (from tb-nightly<1.14.0a20190604,>=1.14.0a20190603->tensorflow-gpu==2.0.0-beta1) (0.15.4)\n",
            "Requirement already satisfied: setuptools>=41.0.0 in /usr/local/lib/python3.6/dist-packages (from tb-nightly<1.14.0a20190604,>=1.14.0a20190603->tensorflow-gpu==2.0.0-beta1) (41.0.1)\n",
            "Requirement already satisfied: markdown>=2.6.8 in /usr/local/lib/python3.6/dist-packages (from tb-nightly<1.14.0a20190604,>=1.14.0a20190603->tensorflow-gpu==2.0.0-beta1) (3.1.1)\n",
            "Requirement already satisfied: h5py in /usr/local/lib/python3.6/dist-packages (from keras-applications>=1.0.6->tensorflow-gpu==2.0.0-beta1) (2.8.0)\n"
          ],
          "name": "stdout"
        }
      ]
    },
    {
      "cell_type": "code",
      "metadata": {
        "id": "ibmLZwTh5SbO",
        "colab_type": "code",
        "colab": {}
      },
      "source": [
        "from __future__ import absolute_import, division, print_function\n",
        "import matplotlib.pyplot as plt \n",
        "import numpy as np\n",
        "import tensorflow as tf \n",
        "import math\n",
        "import seaborn as sns \n",
        "from sklearn import datasets\n",
        "import pandas as pd \n",
        "from scipy.stats import pearsonr\n",
        "\n",
        "#tf.__version__"
      ],
      "execution_count": 0,
      "outputs": []
    },
    {
      "cell_type": "markdown",
      "metadata": {
        "id": "M3iDtFSS-flb",
        "colab_type": "text"
      },
      "source": [
        "# Caso de estudio set de datos IRIS\n",
        "\n",
        "En el siguiente ejemplo vamos a realizar una regresion lineal en ***`tensorflow2`*** con el Dataset IRIS que se encuentra en ***`sklearn`***"
      ]
    },
    {
      "cell_type": "code",
      "metadata": {
        "id": "hUNIxffo5rLR",
        "colab_type": "code",
        "colab": {}
      },
      "source": [
        "# Cargamos el set de datos de iris \n",
        "\n",
        "iris = datasets.load_iris()"
      ],
      "execution_count": 0,
      "outputs": []
    },
    {
      "cell_type": "code",
      "metadata": {
        "id": "YA3GKJsN5XF2",
        "colab_type": "code",
        "colab": {
          "base_uri": "https://localhost:8080/",
          "height": 85
        },
        "outputId": "7e3e6c6b-78ef-48af-a66f-54f2f703b712"
      },
      "source": [
        "iris.feature_names  # Nombre de las columnas "
      ],
      "execution_count": 4,
      "outputs": [
        {
          "output_type": "execute_result",
          "data": {
            "text/plain": [
              "['sepal length (cm)',\n",
              " 'sepal width (cm)',\n",
              " 'petal length (cm)',\n",
              " 'petal width (cm)']"
            ]
          },
          "metadata": {
            "tags": []
          },
          "execution_count": 4
        }
      ]
    },
    {
      "cell_type": "code",
      "metadata": {
        "id": "YkTT7FMH6XTD",
        "colab_type": "code",
        "colab": {
          "base_uri": "https://localhost:8080/",
          "height": 34
        },
        "outputId": "1543199e-1fbf-46cc-b3da-ed059f14bc2e"
      },
      "source": [
        "iris.feature_names[2]  # Longitud del petalo"
      ],
      "execution_count": 5,
      "outputs": [
        {
          "output_type": "execute_result",
          "data": {
            "text/plain": [
              "'petal length (cm)'"
            ]
          },
          "metadata": {
            "tags": []
          },
          "execution_count": 5
        }
      ]
    },
    {
      "cell_type": "code",
      "metadata": {
        "id": "Oxz3z4F47V4y",
        "colab_type": "code",
        "colab": {}
      },
      "source": [
        "# Creamos nuestro Dataframe \n",
        "\n",
        "df=pd.DataFrame(iris.data)"
      ],
      "execution_count": 0,
      "outputs": []
    },
    {
      "cell_type": "code",
      "metadata": {
        "id": "vfAZymUB7bj9",
        "colab_type": "code",
        "colab": {}
      },
      "source": [
        "# Editamos los nombres de las columnas\n",
        "\n",
        "df=df.rename(columns={0:iris.feature_names[0],1:iris.feature_names[1],2:iris.feature_names[2],3:iris.feature_names[3] } )"
      ],
      "execution_count": 0,
      "outputs": []
    },
    {
      "cell_type": "code",
      "metadata": {
        "id": "y0podbjG8QLS",
        "colab_type": "code",
        "colab": {
          "base_uri": "https://localhost:8080/",
          "height": 142
        },
        "outputId": "6bf0c3f5-6095-46d8-a182-3f4badafe47a"
      },
      "source": [
        "df.head(3)"
      ],
      "execution_count": 8,
      "outputs": [
        {
          "output_type": "execute_result",
          "data": {
            "text/html": [
              "<div>\n",
              "<style scoped>\n",
              "    .dataframe tbody tr th:only-of-type {\n",
              "        vertical-align: middle;\n",
              "    }\n",
              "\n",
              "    .dataframe tbody tr th {\n",
              "        vertical-align: top;\n",
              "    }\n",
              "\n",
              "    .dataframe thead th {\n",
              "        text-align: right;\n",
              "    }\n",
              "</style>\n",
              "<table border=\"1\" class=\"dataframe\">\n",
              "  <thead>\n",
              "    <tr style=\"text-align: right;\">\n",
              "      <th></th>\n",
              "      <th>sepal length (cm)</th>\n",
              "      <th>sepal width (cm)</th>\n",
              "      <th>petal length (cm)</th>\n",
              "      <th>petal width (cm)</th>\n",
              "    </tr>\n",
              "  </thead>\n",
              "  <tbody>\n",
              "    <tr>\n",
              "      <th>0</th>\n",
              "      <td>5.1</td>\n",
              "      <td>3.5</td>\n",
              "      <td>1.4</td>\n",
              "      <td>0.2</td>\n",
              "    </tr>\n",
              "    <tr>\n",
              "      <th>1</th>\n",
              "      <td>4.9</td>\n",
              "      <td>3.0</td>\n",
              "      <td>1.4</td>\n",
              "      <td>0.2</td>\n",
              "    </tr>\n",
              "    <tr>\n",
              "      <th>2</th>\n",
              "      <td>4.7</td>\n",
              "      <td>3.2</td>\n",
              "      <td>1.3</td>\n",
              "      <td>0.2</td>\n",
              "    </tr>\n",
              "  </tbody>\n",
              "</table>\n",
              "</div>"
            ],
            "text/plain": [
              "   sepal length (cm)  sepal width (cm)  petal length (cm)  petal width (cm)\n",
              "0                5.1               3.5                1.4               0.2\n",
              "1                4.9               3.0                1.4               0.2\n",
              "2                4.7               3.2                1.3               0.2"
            ]
          },
          "metadata": {
            "tags": []
          },
          "execution_count": 8
        }
      ]
    },
    {
      "cell_type": "markdown",
      "metadata": {
        "id": "nYkHfKIU980b",
        "colab_type": "text"
      },
      "source": [
        "# Correlación de las variables \n",
        "\n",
        "Como podemos observar existe una fuerte correlacion entre :\n",
        "1. Ancho y largo del petalo -->> **0.96**\n",
        "1. Longitud del sepalo y longitud del petalo -->> **0.87**"
      ]
    },
    {
      "cell_type": "code",
      "metadata": {
        "id": "fmMoxynf8cws",
        "colab_type": "code",
        "colab": {
          "base_uri": "https://localhost:8080/",
          "height": 364
        },
        "outputId": "d1fd96cd-34fe-4e19-858a-0712e18e5679"
      },
      "source": [
        "sns.heatmap(df.corr(),cmap='GnBu',annot=True) "
      ],
      "execution_count": 9,
      "outputs": [
        {
          "output_type": "execute_result",
          "data": {
            "text/plain": [
              "<matplotlib.axes._subplots.AxesSubplot at 0x7ffa890c1208>"
            ]
          },
          "metadata": {
            "tags": []
          },
          "execution_count": 9
        },
        {
          "output_type": "display_data",
          "data": {
            "image/png": "[encoded data removed]",
            "text/plain": [
              "<Figure size 432x288 with 2 Axes>"
            ]
          },
          "metadata": {
            "tags": []
          }
        }
      ]
    },
    {
      "cell_type": "markdown",
      "metadata": {
        "id": "0Br38kTiBtSU",
        "colab_type": "text"
      },
      "source": [
        "# Agregamos las etiquetas a nuestro Dataframe"
      ]
    },
    {
      "cell_type": "code",
      "metadata": {
        "id": "FU_KKGFOBrg0",
        "colab_type": "code",
        "colab": {}
      },
      "source": [
        "df['target']=iris.target"
      ],
      "execution_count": 0,
      "outputs": []
    },
    {
      "cell_type": "markdown",
      "metadata": {
        "id": "EQG4BLiNB8MA",
        "colab_type": "text"
      },
      "source": [
        "# Agregamos el nombre de la especie "
      ]
    },
    {
      "cell_type": "code",
      "metadata": {
        "id": "m73OoxjhBrn6",
        "colab_type": "code",
        "colab": {
          "base_uri": "https://localhost:8080/",
          "height": 34
        },
        "outputId": "377ff05a-73af-48ef-e368-5990a786e4d5"
      },
      "source": [
        "iris.target_names"
      ],
      "execution_count": 11,
      "outputs": [
        {
          "output_type": "execute_result",
          "data": {
            "text/plain": [
              "array(['setosa', 'versicolor', 'virginica'], dtype='<U10')"
            ]
          },
          "metadata": {
            "tags": []
          },
          "execution_count": 11
        }
      ]
    },
    {
      "cell_type": "code",
      "metadata": {
        "id": "Ug2hF_EYBrv7",
        "colab_type": "code",
        "colab": {}
      },
      "source": [
        "df.loc[df['target']==0,'kind']='setosa'\n",
        "df.loc[df['target']==1,'kind']='versicolor'\n",
        "df.loc[df['target']==2,'kind']='virginica'"
      ],
      "execution_count": 0,
      "outputs": []
    },
    {
      "cell_type": "code",
      "metadata": {
        "id": "vC-WKf0cCNn_",
        "colab_type": "code",
        "colab": {
          "base_uri": "https://localhost:8080/",
          "height": 142
        },
        "outputId": "e6562198-007f-4613-f0ef-905d6b3bb3c8"
      },
      "source": [
        "df.head(3)"
      ],
      "execution_count": 13,
      "outputs": [
        {
          "output_type": "execute_result",
          "data": {
            "text/html": [
              "<div>\n",
              "<style scoped>\n",
              "    .dataframe tbody tr th:only-of-type {\n",
              "        vertical-align: middle;\n",
              "    }\n",
              "\n",
              "    .dataframe tbody tr th {\n",
              "        vertical-align: top;\n",
              "    }\n",
              "\n",
              "    .dataframe thead th {\n",
              "        text-align: right;\n",
              "    }\n",
              "</style>\n",
              "<table border=\"1\" class=\"dataframe\">\n",
              "  <thead>\n",
              "    <tr style=\"text-align: right;\">\n",
              "      <th></th>\n",
              "      <th>sepal length (cm)</th>\n",
              "      <th>sepal width (cm)</th>\n",
              "      <th>petal length (cm)</th>\n",
              "      <th>petal width (cm)</th>\n",
              "      <th>target</th>\n",
              "      <th>kind</th>\n",
              "    </tr>\n",
              "  </thead>\n",
              "  <tbody>\n",
              "    <tr>\n",
              "      <th>0</th>\n",
              "      <td>5.1</td>\n",
              "      <td>3.5</td>\n",
              "      <td>1.4</td>\n",
              "      <td>0.2</td>\n",
              "      <td>0</td>\n",
              "      <td>setosa</td>\n",
              "    </tr>\n",
              "    <tr>\n",
              "      <th>1</th>\n",
              "      <td>4.9</td>\n",
              "      <td>3.0</td>\n",
              "      <td>1.4</td>\n",
              "      <td>0.2</td>\n",
              "      <td>0</td>\n",
              "      <td>setosa</td>\n",
              "    </tr>\n",
              "    <tr>\n",
              "      <th>2</th>\n",
              "      <td>4.7</td>\n",
              "      <td>3.2</td>\n",
              "      <td>1.3</td>\n",
              "      <td>0.2</td>\n",
              "      <td>0</td>\n",
              "      <td>setosa</td>\n",
              "    </tr>\n",
              "  </tbody>\n",
              "</table>\n",
              "</div>"
            ],
            "text/plain": [
              "   sepal length (cm)  sepal width (cm)  ...  target    kind\n",
              "0                5.1               3.5  ...       0  setosa\n",
              "1                4.9               3.0  ...       0  setosa\n",
              "2                4.7               3.2  ...       0  setosa\n",
              "\n",
              "[3 rows x 6 columns]"
            ]
          },
          "metadata": {
            "tags": []
          },
          "execution_count": 13
        }
      ]
    },
    {
      "cell_type": "markdown",
      "metadata": {
        "id": "weJloED__-BI",
        "colab_type": "text"
      },
      "source": [
        "# Visualizamos nuestros datos "
      ]
    },
    {
      "cell_type": "code",
      "metadata": {
        "id": "1bHt1roM9t80",
        "colab_type": "code",
        "colab": {}
      },
      "source": [
        "x_vals = np.array([x[2] for x in iris.data]) # Longitud del Pétalo\n",
        "y_vals = np.array([x[0] for x in iris.data]) # Longitud del Sépalo"
      ],
      "execution_count": 0,
      "outputs": []
    },
    {
      "cell_type": "code",
      "metadata": {
        "id": "CdZcQ2Fi9E0U",
        "colab_type": "code",
        "colab": {
          "base_uri": "https://localhost:8080/",
          "height": 492
        },
        "outputId": "ff671181-abe8-45a3-b100-dc8d565717d8"
      },
      "source": [
        "sns.set_style(style='darkgrid')\n",
        "sns.jointplot(x_vals,y_vals,stat_func=pearsonr,kind=\"reg\")"
      ],
      "execution_count": 15,
      "outputs": [
        {
          "output_type": "stream",
          "text": [
            "/usr/local/lib/python3.6/dist-packages/seaborn/axisgrid.py:1847: UserWarning: JointGrid annotation is deprecated and will be removed in a future release.\n",
            "  warnings.warn(UserWarning(msg))\n"
          ],
          "name": "stderr"
        },
        {
          "output_type": "execute_result",
          "data": {
            "text/plain": [
              "<seaborn.axisgrid.JointGrid at 0x7ffa87da4940>"
            ]
          },
          "metadata": {
            "tags": []
          },
          "execution_count": 15
        },
        {
          "output_type": "display_data",
          "data": {
            "image/png": "[encoded data removed]",
            "text/plain": [
              "<Figure size 432x432 with 3 Axes>"
            ]
          },
          "metadata": {
            "tags": []
          }
        }
      ]
    },
    {
      "cell_type": "markdown",
      "metadata": {
        "id": "op_Vho15QmC3",
        "colab_type": "text"
      },
      "source": [
        "# Preparación del modelo en Tensorflow "
      ]
    },
    {
      "cell_type": "code",
      "metadata": {
        "id": "y1pcG632AoUG",
        "colab_type": "code",
        "colab": {}
      },
      "source": [
        "# Ingresamor parametros \n",
        "\n",
        "learning_rate=0.05\n",
        "batch_size=25\n",
        "training_steps = 300\n",
        "rng = np.random\n",
        "n_samples =len(df) "
      ],
      "execution_count": 0,
      "outputs": []
    },
    {
      "cell_type": "markdown",
      "metadata": {
        "id": "6qW7z-ovbuhI",
        "colab_type": "text"
      },
      "source": [
        "$$y=Ax+b$$"
      ]
    },
    {
      "cell_type": "markdown",
      "metadata": {
        "id": "PBFXugpxdBwX",
        "colab_type": "text"
      },
      "source": [
        "# Definimos las funciones de regresion y de perdida "
      ]
    },
    {
      "cell_type": "code",
      "metadata": {
        "id": "ZsKeSDAab0SF",
        "colab_type": "code",
        "colab": {}
      },
      "source": [
        "W = tf.Variable(rng.randn(), name=\"weight\")\n",
        "b = tf.Variable(rng.randn(), name=\"bias\")\n",
        "\n",
        "# Regresión Lineal (Wx + b).\n",
        "def linear_regression(x):\n",
        "    return W*x+b\n",
        "\n",
        "# Funcion de perdida error cuadratico medio.\n",
        "def mean_square(y_pred, y_true):\n",
        "    return tf.reduce_mean(tf.square(y_pred-y_true))\n",
        "\n",
        "# Optimizador de gradiente descendiente.\n",
        "optimizer = tf.optimizers.SGD(learning_rate)"
      ],
      "execution_count": 0,
      "outputs": []
    },
    {
      "cell_type": "code",
      "metadata": {
        "id": "Yu5f8TOZawhF",
        "colab_type": "code",
        "colab": {}
      },
      "source": [
        "# Función de optimizacion . \n",
        "def run_optimization():\n",
        "    # Diferenciacion automatica.\n",
        "    with tf.GradientTape() as g:\n",
        "        pred = linear_regression(x_vals)\n",
        "        loss = mean_square(pred, y_vals)\n",
        "\n",
        "    # Calculamos el gradiente.\n",
        "    gradients = g.gradient(loss, [W, b])\n",
        "    \n",
        "    # Actualizamos valores de W y b\n",
        "    optimizer.apply_gradients(zip(gradients, [W, b]))"
      ],
      "execution_count": 0,
      "outputs": []
    },
    {
      "cell_type": "code",
      "metadata": {
        "id": "50fjK91TA4MP",
        "colab_type": "code",
        "colab": {
          "base_uri": "https://localhost:8080/",
          "height": 221
        },
        "outputId": "1702f1f8-23d3-47d0-c973-c407c6bad99f"
      },
      "source": [
        "# Ejecutamos nuestro optimizador para actualizar valores de W y b.\n",
        "\n",
        "for step in range(1, training_steps + 1):\n",
        "    \n",
        "    run_optimization()\n",
        "    \n",
        "    if step % batch_size == 0:\n",
        "        pred = linear_regression(x_vals)\n",
        "        loss = mean_square(pred,y_vals)\n",
        "        print(\"step: %i, loss: %f, W: %f, b: %f\" % (step, loss, W.numpy(), b.numpy()))"
      ],
      "execution_count": 19,
      "outputs": [
        {
          "output_type": "stream",
          "text": [
            "step: 25, loss: 1.411425, W: 0.997616, b: 1.675787\n",
            "step: 50, loss: 0.688346, W: 0.785471, b: 2.598382\n",
            "step: 75, loss: 0.384468, W: 0.653272, b: 3.198217\n",
            "step: 100, loss: 0.256531, W: 0.567470, b: 3.587419\n",
            "step: 125, loss: 0.202668, W: 0.511797, b: 3.839955\n",
            "step: 150, loss: 0.179990, W: 0.475673, b: 4.003816\n",
            "step: 175, loss: 0.170443, W: 0.452234, b: 4.110137\n",
            "step: 200, loss: 0.166423, W: 0.437026, b: 4.179124\n",
            "step: 225, loss: 0.164731, W: 0.427157, b: 4.223888\n",
            "step: 250, loss: 0.164018, W: 0.420754, b: 4.252933\n",
            "step: 275, loss: 0.163718, W: 0.416599, b: 4.271779\n",
            "step: 300, loss: 0.163592, W: 0.413904, b: 4.284007\n"
          ],
          "name": "stdout"
        }
      ]
    },
    {
      "cell_type": "markdown",
      "metadata": {
        "id": "Rv9sPttpgHm3",
        "colab_type": "text"
      },
      "source": [
        "# Visualizamos los resultados\n",
        "\n"
      ]
    },
    {
      "cell_type": "code",
      "metadata": {
        "id": "z_vHos4WgaMl",
        "colab_type": "code",
        "colab": {}
      },
      "source": [
        "# Guardamos los ultimos resultados de W y b \n",
        "\n",
        "slope=W.numpy()\n",
        "intercept=b.numpy()"
      ],
      "execution_count": 0,
      "outputs": []
    },
    {
      "cell_type": "code",
      "metadata": {
        "id": "bG291q94gaRh",
        "colab_type": "code",
        "colab": {
          "base_uri": "https://localhost:8080/",
          "height": 85
        },
        "outputId": "2aafe812-6550-49d5-a886-6211d7afd4bd"
      },
      "source": [
        "print('La ecuación de la recta es : ' )\n",
        "print('\\n') \n",
        "print(str(np.round(slope,3))+ 'x +' + str(np.round(intercept,3)))"
      ],
      "execution_count": 21,
      "outputs": [
        {
          "output_type": "stream",
          "text": [
            "La ecuación de la recta es : \n",
            "\n",
            "\n",
            "0.414x +4.284\n"
          ],
          "name": "stdout"
        }
      ]
    },
    {
      "cell_type": "code",
      "metadata": {
        "id": "p9R_8Mz-goDj",
        "colab_type": "code",
        "colab": {}
      },
      "source": [
        "best_fit=[]\n",
        "for i in x_vals:\n",
        "  best_fit.append(slope*i + intercept)"
      ],
      "execution_count": 0,
      "outputs": []
    },
    {
      "cell_type": "code",
      "metadata": {
        "id": "7iOh_jq-A5Di",
        "colab_type": "code",
        "colab": {
          "base_uri": "https://localhost:8080/",
          "height": 296
        },
        "outputId": "ffc2dec4-b043-40f0-d07a-7e9fe4e3e08e"
      },
      "source": [
        "# Configuración de nuestro grafico\n",
        "plt.title('Longitud de sépalos Vs Longitud de Pétalo')\n",
        "plt.xlabel('Longitud del Pétalo')\n",
        "plt.ylabel('Longitud del Sépalo')\n",
        "plt.plot(x_vals, y_vals, 'o', label='Original data')\n",
        "plt.plot(x_vals,best_fit,'r-',label='Recta de Regresión TF',linewidth=4)\n",
        "plt.legend()\n",
        "plt.show()"
      ],
      "execution_count": 23,
      "outputs": [
        {
          "output_type": "display_data",
          "data": {
            "image/png": "[encoded data removed]",
            "text/plain": [
              "<Figure size 432x288 with 1 Axes>"
            ]
          },
          "metadata": {
            "tags": []
          }
        }
      ]
    },
    {
      "cell_type": "code",
      "metadata": {
        "id": "Q2hFFObcBlzr",
        "colab_type": "code",
        "colab": {}
      },
      "source": [
        ""
      ],
      "execution_count": 0,
      "outputs": []
    },
    {
      "cell_type": "markdown",
      "metadata": {
        "id": "k3znRNzh67a3",
        "colab_type": "text"
      },
      "source": [
        "# FINAL"
      ]
    },
    {
      "cell_type": "code",
      "metadata": {
        "id": "4GUU-RYjx9wx",
        "colab_type": "code",
        "colab": {}
      },
      "source": [
        ""
      ],
      "execution_count": 0,
      "outputs": []
    }
  ]
}