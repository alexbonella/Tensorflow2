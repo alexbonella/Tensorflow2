{
  "nbformat": 4,
  "nbformat_minor": 0,
  "metadata": {
    "colab": {
      "name": "Regresion lineal IRIS con TF2.ipynb",
      "version": "0.3.2",
      "provenance": [],
      "collapsed_sections": [],
      "include_colab_link": true
    },
    "kernelspec": {
      "name": "python3",
      "display_name": "Python 3"
    }
  },
  "cells": [
    {
      "cell_type": "markdown",
      "metadata": {
        "id": "view-in-github",
        "colab_type": "text"
      },
      "source": [
        "<a href=\"https://colab.research.google.com/github/alexbonella/Tensorflow2/blob/master/Regresion_lineal_IRIS_con_TF2.ipynb\" target=\"_parent\"><img src=\"https://colab.research.google.com/assets/colab-badge.svg\" alt=\"Open In Colab\"/></a>"
      ]
    },
    {
      "cell_type": "code",
      "metadata": {
        "id": "U4NG-nQg-KP3",
        "colab_type": "code",
        "outputId": "5b98443d-6e7e-4046-939b-cb9fea892b88",
        "colab": {
          "base_uri": "https://localhost:8080/",
          "height": 377
        }
      },
      "source": [
        "# Instalamos tensorflow 2 en la GPU (Google_colab -->>> Gratis )\n",
        "\n",
        "!pip install tensorflow-gpu==2.0.0-beta1"
      ],
      "execution_count": 1,
      "outputs": [
        {
          "output_type": "stream",
          "text": [
            "Requirement already satisfied: tensorflow-gpu==2.0.0-beta1 in /usr/local/lib/python3.6/dist-packages (2.0.0b1)\n",
            "Requirement already satisfied: google-pasta>=0.1.6 in /usr/local/lib/python3.6/dist-packages (from tensorflow-gpu==2.0.0-beta1) (0.1.7)\n",
            "Requirement already satisfied: termcolor>=1.1.0 in /usr/local/lib/python3.6/dist-packages (from tensorflow-gpu==2.0.0-beta1) (1.1.0)\n",
            "Requirement already satisfied: keras-applications>=1.0.6 in /usr/local/lib/python3.6/dist-packages (from tensorflow-gpu==2.0.0-beta1) (1.0.8)\n",
            "Requirement already satisfied: astor>=0.6.0 in /usr/local/lib/python3.6/dist-packages (from tensorflow-gpu==2.0.0-beta1) (0.8.0)\n",
            "Requirement already satisfied: six>=1.10.0 in /usr/local/lib/python3.6/dist-packages (from tensorflow-gpu==2.0.0-beta1) (1.12.0)\n",
            "Requirement already satisfied: numpy<2.0,>=1.14.5 in /usr/local/lib/python3.6/dist-packages (from tensorflow-gpu==2.0.0-beta1) (1.16.4)\n",
            "Requirement already satisfied: tf-estimator-nightly<1.14.0.dev2019060502,>=1.14.0.dev2019060501 in /usr/local/lib/python3.6/dist-packages (from tensorflow-gpu==2.0.0-beta1) (1.14.0.dev2019060501)\n",
            "Requirement already satisfied: wheel>=0.26 in /usr/local/lib/python3.6/dist-packages (from tensorflow-gpu==2.0.0-beta1) (0.33.4)\n",
            "Requirement already satisfied: gast>=0.2.0 in /usr/local/lib/python3.6/dist-packages (from tensorflow-gpu==2.0.0-beta1) (0.2.2)\n",
            "Requirement already satisfied: keras-preprocessing>=1.0.5 in /usr/local/lib/python3.6/dist-packages (from tensorflow-gpu==2.0.0-beta1) (1.1.0)\n",
            "Requirement already satisfied: grpcio>=1.8.6 in /usr/local/lib/python3.6/dist-packages (from tensorflow-gpu==2.0.0-beta1) (1.15.0)\n",
            "Requirement already satisfied: protobuf>=3.6.1 in /usr/local/lib/python3.6/dist-packages (from tensorflow-gpu==2.0.0-beta1) (3.7.1)\n",
            "Requirement already satisfied: tb-nightly<1.14.0a20190604,>=1.14.0a20190603 in /usr/local/lib/python3.6/dist-packages (from tensorflow-gpu==2.0.0-beta1) (1.14.0a20190603)\n",
            "Requirement already satisfied: wrapt>=1.11.1 in /usr/local/lib/python3.6/dist-packages (from tensorflow-gpu==2.0.0-beta1) (1.11.2)\n",
            "Requirement already satisfied: absl-py>=0.7.0 in /usr/local/lib/python3.6/dist-packages (from tensorflow-gpu==2.0.0-beta1) (0.7.1)\n",
            "Requirement already satisfied: h5py in /usr/local/lib/python3.6/dist-packages (from keras-applications>=1.0.6->tensorflow-gpu==2.0.0-beta1) (2.8.0)\n",
            "Requirement already satisfied: setuptools in /usr/local/lib/python3.6/dist-packages (from protobuf>=3.6.1->tensorflow-gpu==2.0.0-beta1) (41.0.1)\n",
            "Requirement already satisfied: markdown>=2.6.8 in /usr/local/lib/python3.6/dist-packages (from tb-nightly<1.14.0a20190604,>=1.14.0a20190603->tensorflow-gpu==2.0.0-beta1) (3.1.1)\n",
            "Requirement already satisfied: werkzeug>=0.11.15 in /usr/local/lib/python3.6/dist-packages (from tb-nightly<1.14.0a20190604,>=1.14.0a20190603->tensorflow-gpu==2.0.0-beta1) (0.15.4)\n"
          ],
          "name": "stdout"
        }
      ]
    },
    {
      "cell_type": "code",
      "metadata": {
        "id": "ibmLZwTh5SbO",
        "colab_type": "code",
        "colab": {}
      },
      "source": [
        "from __future__ import absolute_import, division, print_function\n",
        "import matplotlib.pyplot as plt \n",
        "import numpy as np\n",
        "import tensorflow as tf \n",
        "import math\n",
        "import seaborn as sns \n",
        "from sklearn import datasets\n",
        "import pandas as pd \n",
        "from scipy.stats import pearsonr\n",
        "\n",
        "#tf.__version__"
      ],
      "execution_count": 0,
      "outputs": []
    },
    {
      "cell_type": "markdown",
      "metadata": {
        "id": "M3iDtFSS-flb",
        "colab_type": "text"
      },
      "source": [
        "# Caso de estudio set de datos IRIS\n",
        "\n",
        "En el siguiente ejemplo vamos a realizar una regresion lineal en ***`tensorflow2`*** con el Dataset IRIS que se encuentra en ***`sklearn`***"
      ]
    },
    {
      "cell_type": "code",
      "metadata": {
        "id": "hUNIxffo5rLR",
        "colab_type": "code",
        "colab": {}
      },
      "source": [
        "# Cargamos el set de datos de iris \n",
        "\n",
        "iris = datasets.load_iris()"
      ],
      "execution_count": 0,
      "outputs": []
    },
    {
      "cell_type": "code",
      "metadata": {
        "id": "YA3GKJsN5XF2",
        "colab_type": "code",
        "outputId": "c5df8f82-e0fd-4d70-85cc-7775aea22eeb",
        "colab": {
          "base_uri": "https://localhost:8080/",
          "height": 85
        }
      },
      "source": [
        "iris.feature_names  # Nombre de las columnas "
      ],
      "execution_count": 4,
      "outputs": [
        {
          "output_type": "execute_result",
          "data": {
            "text/plain": [
              "['sepal length (cm)',\n",
              " 'sepal width (cm)',\n",
              " 'petal length (cm)',\n",
              " 'petal width (cm)']"
            ]
          },
          "metadata": {
            "tags": []
          },
          "execution_count": 4
        }
      ]
    },
    {
      "cell_type": "code",
      "metadata": {
        "id": "YkTT7FMH6XTD",
        "colab_type": "code",
        "outputId": "bfbce4cc-1d8e-4942-b92d-6507a1b48345",
        "colab": {
          "base_uri": "https://localhost:8080/",
          "height": 34
        }
      },
      "source": [
        "iris.feature_names[2]  # Longitud del petalo"
      ],
      "execution_count": 5,
      "outputs": [
        {
          "output_type": "execute_result",
          "data": {
            "text/plain": [
              "'petal length (cm)'"
            ]
          },
          "metadata": {
            "tags": []
          },
          "execution_count": 5
        }
      ]
    },
    {
      "cell_type": "code",
      "metadata": {
        "id": "Oxz3z4F47V4y",
        "colab_type": "code",
        "colab": {}
      },
      "source": [
        "# Creamos nuestro Dataframe \n",
        "\n",
        "df=pd.DataFrame(iris.data)"
      ],
      "execution_count": 0,
      "outputs": []
    },
    {
      "cell_type": "code",
      "metadata": {
        "id": "vfAZymUB7bj9",
        "colab_type": "code",
        "colab": {}
      },
      "source": [
        "# Editamos los nombres de las columnas\n",
        "\n",
        "df=df.rename(columns={0:iris.feature_names[0],1:iris.feature_names[1],2:iris.feature_names[2],3:iris.feature_names[3] } )"
      ],
      "execution_count": 0,
      "outputs": []
    },
    {
      "cell_type": "code",
      "metadata": {
        "id": "y0podbjG8QLS",
        "colab_type": "code",
        "outputId": "be5b010c-362f-4956-ca05-0c9725ab7562",
        "colab": {
          "base_uri": "https://localhost:8080/",
          "height": 142
        }
      },
      "source": [
        "df.head(3)"
      ],
      "execution_count": 8,
      "outputs": [
        {
          "output_type": "execute_result",
          "data": {
            "text/html": [
              "<div>\n",
              "<style scoped>\n",
              "    .dataframe tbody tr th:only-of-type {\n",
              "        vertical-align: middle;\n",
              "    }\n",
              "\n",
              "    .dataframe tbody tr th {\n",
              "        vertical-align: top;\n",
              "    }\n",
              "\n",
              "    .dataframe thead th {\n",
              "        text-align: right;\n",
              "    }\n",
              "</style>\n",
              "<table border=\"1\" class=\"dataframe\">\n",
              "  <thead>\n",
              "    <tr style=\"text-align: right;\">\n",
              "      <th></th>\n",
              "      <th>sepal length (cm)</th>\n",
              "      <th>sepal width (cm)</th>\n",
              "      <th>petal length (cm)</th>\n",
              "      <th>petal width (cm)</th>\n",
              "    </tr>\n",
              "  </thead>\n",
              "  <tbody>\n",
              "    <tr>\n",
              "      <th>0</th>\n",
              "      <td>5.1</td>\n",
              "      <td>3.5</td>\n",
              "      <td>1.4</td>\n",
              "      <td>0.2</td>\n",
              "    </tr>\n",
              "    <tr>\n",
              "      <th>1</th>\n",
              "      <td>4.9</td>\n",
              "      <td>3.0</td>\n",
              "      <td>1.4</td>\n",
              "      <td>0.2</td>\n",
              "    </tr>\n",
              "    <tr>\n",
              "      <th>2</th>\n",
              "      <td>4.7</td>\n",
              "      <td>3.2</td>\n",
              "      <td>1.3</td>\n",
              "      <td>0.2</td>\n",
              "    </tr>\n",
              "  </tbody>\n",
              "</table>\n",
              "</div>"
            ],
            "text/plain": [
              "   sepal length (cm)  sepal width (cm)  petal length (cm)  petal width (cm)\n",
              "0                5.1               3.5                1.4               0.2\n",
              "1                4.9               3.0                1.4               0.2\n",
              "2                4.7               3.2                1.3               0.2"
            ]
          },
          "metadata": {
            "tags": []
          },
          "execution_count": 8
        }
      ]
    },
    {
      "cell_type": "markdown",
      "metadata": {
        "id": "nYkHfKIU980b",
        "colab_type": "text"
      },
      "source": [
        "# Correlación de las variables \n",
        "\n",
        "Como podemos observar existe una fuerte correlacion entre :\n",
        "1. Ancho y largo del petalo -->> **0.96**\n",
        "1. Longitud del sepalo y longitud del petalo -->> **0.87**"
      ]
    },
    {
      "cell_type": "code",
      "metadata": {
        "id": "fmMoxynf8cws",
        "colab_type": "code",
        "outputId": "e880f229-6fa5-4b19-dd7e-9e99b86b839d",
        "colab": {
          "base_uri": "https://localhost:8080/",
          "height": 364
        }
      },
      "source": [
        "sns.heatmap(df.corr(),cmap='GnBu',annot=True) "
      ],
      "execution_count": 9,
      "outputs": [
        {
          "output_type": "execute_result",
          "data": {
            "text/plain": [
              "<matplotlib.axes._subplots.AxesSubplot at 0x7f4e67b82278>"
            ]
          },
          "metadata": {
            "tags": []
          },
          "execution_count": 9
        },
        {
          "output_type": "display_data",
          "data": {
            "image/png": "[encoded data removed]",
            "text/plain": [
              "<Figure size 432x288 with 2 Axes>"
            ]
          },
          "metadata": {
            "tags": []
          }
        }
      ]
    },
    {
      "cell_type": "markdown",
      "metadata": {
        "id": "0Br38kTiBtSU",
        "colab_type": "text"
      },
      "source": [
        "# Agregamos las etiquetas a nuestro Dataframe"
      ]
    },
    {
      "cell_type": "code",
      "metadata": {
        "id": "FU_KKGFOBrg0",
        "colab_type": "code",
        "colab": {}
      },
      "source": [
        "df['target']=iris.target"
      ],
      "execution_count": 0,
      "outputs": []
    },
    {
      "cell_type": "markdown",
      "metadata": {
        "id": "EQG4BLiNB8MA",
        "colab_type": "text"
      },
      "source": [
        "# Agregamos el nombre de la especie "
      ]
    },
    {
      "cell_type": "code",
      "metadata": {
        "id": "m73OoxjhBrn6",
        "colab_type": "code",
        "outputId": "f0e01308-4d32-4b07-f32a-247027fde8d5",
        "colab": {
          "base_uri": "https://localhost:8080/",
          "height": 34
        }
      },
      "source": [
        "iris.target_names"
      ],
      "execution_count": 11,
      "outputs": [
        {
          "output_type": "execute_result",
          "data": {
            "text/plain": [
              "array(['setosa', 'versicolor', 'virginica'], dtype='<U10')"
            ]
          },
          "metadata": {
            "tags": []
          },
          "execution_count": 11
        }
      ]
    },
    {
      "cell_type": "code",
      "metadata": {
        "id": "Ug2hF_EYBrv7",
        "colab_type": "code",
        "colab": {}
      },
      "source": [
        "df.loc[df['target']==0,'kind']='setosa'\n",
        "df.loc[df['target']==1,'kind']='versicolor'\n",
        "df.loc[df['target']==2,'kind']='virginica'"
      ],
      "execution_count": 0,
      "outputs": []
    },
    {
      "cell_type": "code",
      "metadata": {
        "id": "vC-WKf0cCNn_",
        "colab_type": "code",
        "outputId": "b1145712-e79e-49de-939a-e6e83787b468",
        "colab": {
          "base_uri": "https://localhost:8080/",
          "height": 142
        }
      },
      "source": [
        "df.head(3)"
      ],
      "execution_count": 13,
      "outputs": [
        {
          "output_type": "execute_result",
          "data": {
            "text/html": [
              "<div>\n",
              "<style scoped>\n",
              "    .dataframe tbody tr th:only-of-type {\n",
              "        vertical-align: middle;\n",
              "    }\n",
              "\n",
              "    .dataframe tbody tr th {\n",
              "        vertical-align: top;\n",
              "    }\n",
              "\n",
              "    .dataframe thead th {\n",
              "        text-align: right;\n",
              "    }\n",
              "</style>\n",
              "<table border=\"1\" class=\"dataframe\">\n",
              "  <thead>\n",
              "    <tr style=\"text-align: right;\">\n",
              "      <th></th>\n",
              "      <th>sepal length (cm)</th>\n",
              "      <th>sepal width (cm)</th>\n",
              "      <th>petal length (cm)</th>\n",
              "      <th>petal width (cm)</th>\n",
              "      <th>target</th>\n",
              "      <th>kind</th>\n",
              "    </tr>\n",
              "  </thead>\n",
              "  <tbody>\n",
              "    <tr>\n",
              "      <th>0</th>\n",
              "      <td>5.1</td>\n",
              "      <td>3.5</td>\n",
              "      <td>1.4</td>\n",
              "      <td>0.2</td>\n",
              "      <td>0</td>\n",
              "      <td>setosa</td>\n",
              "    </tr>\n",
              "    <tr>\n",
              "      <th>1</th>\n",
              "      <td>4.9</td>\n",
              "      <td>3.0</td>\n",
              "      <td>1.4</td>\n",
              "      <td>0.2</td>\n",
              "      <td>0</td>\n",
              "      <td>setosa</td>\n",
              "    </tr>\n",
              "    <tr>\n",
              "      <th>2</th>\n",
              "      <td>4.7</td>\n",
              "      <td>3.2</td>\n",
              "      <td>1.3</td>\n",
              "      <td>0.2</td>\n",
              "      <td>0</td>\n",
              "      <td>setosa</td>\n",
              "    </tr>\n",
              "  </tbody>\n",
              "</table>\n",
              "</div>"
            ],
            "text/plain": [
              "   sepal length (cm)  sepal width (cm)  ...  target    kind\n",
              "0                5.1               3.5  ...       0  setosa\n",
              "1                4.9               3.0  ...       0  setosa\n",
              "2                4.7               3.2  ...       0  setosa\n",
              "\n",
              "[3 rows x 6 columns]"
            ]
          },
          "metadata": {
            "tags": []
          },
          "execution_count": 13
        }
      ]
    },
    {
      "cell_type": "markdown",
      "metadata": {
        "id": "weJloED__-BI",
        "colab_type": "text"
      },
      "source": [
        "# Visualizamos nuestros datos "
      ]
    },
    {
      "cell_type": "code",
      "metadata": {
        "id": "1bHt1roM9t80",
        "colab_type": "code",
        "colab": {}
      },
      "source": [
        "x_vals = np.array([x[2] for x in iris.data]) # Longitud del Pétalo\n",
        "y_vals = np.array([x[0] for x in iris.data]) # Longitud del Sépalo"
      ],
      "execution_count": 0,
      "outputs": []
    },
    {
      "cell_type": "code",
      "metadata": {
        "id": "CdZcQ2Fi9E0U",
        "colab_type": "code",
        "outputId": "a14bf0be-9bd0-4181-8921-bc8448f4a5d0",
        "colab": {
          "base_uri": "https://localhost:8080/",
          "height": 492
        }
      },
      "source": [
        "sns.set_style(style='darkgrid')\n",
        "sns.jointplot(x_vals,y_vals,stat_func=pearsonr,kind=\"reg\")"
      ],
      "execution_count": 15,
      "outputs": [
        {
          "output_type": "stream",
          "text": [
            "/usr/local/lib/python3.6/dist-packages/seaborn/axisgrid.py:1847: UserWarning: JointGrid annotation is deprecated and will be removed in a future release.\n",
            "  warnings.warn(UserWarning(msg))\n"
          ],
          "name": "stderr"
        },
        {
          "output_type": "execute_result",
          "data": {
            "text/plain": [
              "<seaborn.axisgrid.JointGrid at 0x7f4e68023d68>"
            ]
          },
          "metadata": {
            "tags": []
          },
          "execution_count": 15
        },
        {
          "output_type": "display_data",
          "data": {
            "image/png": "[encoded data removed]",
            "text/plain": [
              "<Figure size 432x432 with 3 Axes>"
            ]
          },
          "metadata": {
            "tags": []
          }
        }
      ]
    },
    {
      "cell_type": "markdown",
      "metadata": {
        "id": "op_Vho15QmC3",
        "colab_type": "text"
      },
      "source": [
        "# Preparación del modelo en Tensorflow "
      ]
    },
    {
      "cell_type": "code",
      "metadata": {
        "id": "y1pcG632AoUG",
        "colab_type": "code",
        "colab": {}
      },
      "source": [
        "# Ingresamor parametros \n",
        "\n",
        "learning_rate=0.05\n",
        "batch_size=20\n",
        "training_steps = 400\n",
        "rng = np.random\n",
        "n_samples =len(df) "
      ],
      "execution_count": 0,
      "outputs": []
    },
    {
      "cell_type": "markdown",
      "metadata": {
        "id": "6qW7z-ovbuhI",
        "colab_type": "text"
      },
      "source": [
        "$$y=Ax+b$$"
      ]
    },
    {
      "cell_type": "markdown",
      "metadata": {
        "id": "PBFXugpxdBwX",
        "colab_type": "text"
      },
      "source": [
        "# Definimos las funciones de regresion y de perdida "
      ]
    },
    {
      "cell_type": "code",
      "metadata": {
        "id": "ZsKeSDAab0SF",
        "colab_type": "code",
        "colab": {}
      },
      "source": [
        "W = tf.Variable(rng.randn(), name=\"weight\")\n",
        "b = tf.Variable(rng.randn(), name=\"bias\")\n",
        "\n",
        "# Regresión Lineal (Wx + b).\n",
        "def linear_regression(x):\n",
        "    return W*x+b\n",
        "\n",
        "# Funcion de perdida error cuadratico medio.\n",
        "def mean_square(y_pred, y_true):\n",
        "    return tf.reduce_mean(tf.square(y_pred-y_true))\n",
        "\n",
        "# Optimizador de gradiente descendiente.\n",
        "optimizer = tf.optimizers.SGD(learning_rate)"
      ],
      "execution_count": 0,
      "outputs": []
    },
    {
      "cell_type": "code",
      "metadata": {
        "id": "Yu5f8TOZawhF",
        "colab_type": "code",
        "colab": {}
      },
      "source": [
        "# Función de optimizacion . \n",
        "def run_optimization():\n",
        "    # Diferenciacion automatica.\n",
        "    with tf.GradientTape() as g:\n",
        "        pred = linear_regression(x_vals)\n",
        "        loss = mean_square(pred, y_vals)\n",
        "\n",
        "    # Calculamos el gradiente.\n",
        "    gradients = g.gradient(loss, [W, b])\n",
        "    \n",
        "    # Actualizamos valores de W y b\n",
        "    optimizer.apply_gradients(zip(gradients, [W, b]))"
      ],
      "execution_count": 0,
      "outputs": []
    },
    {
      "cell_type": "code",
      "metadata": {
        "id": "50fjK91TA4MP",
        "colab_type": "code",
        "outputId": "f63d870f-d616-4f9f-aaaa-28d6a586623e",
        "colab": {
          "base_uri": "https://localhost:8080/",
          "height": 357
        }
      },
      "source": [
        "# Ejecutamos nuestro optimizador para actualizar valores de W y b.\n",
        "fun_per=[]\n",
        "for step in range(1, training_steps + 1):\n",
        "    \n",
        "    run_optimization()\n",
        "    \n",
        "    if step % batch_size == 0:\n",
        "        pred = linear_regression(x_vals)\n",
        "        loss = mean_square(pred,y_vals)\n",
        "        fun_per.append(loss)\n",
        "        print(\"step: %i, loss: %f, W: %f, b: %f\" % (step, loss, W.numpy(), b.numpy()))"
      ],
      "execution_count": 19,
      "outputs": [
        {
          "output_type": "stream",
          "text": [
            "step: 20, loss: 2.246718, W: 1.140136, b: 0.904382\n",
            "step: 40, loss: 1.203182, W: 0.938716, b: 1.902321\n",
            "step: 60, loss: 0.683902, W: 0.783906, b: 2.605637\n",
            "step: 80, loss: 0.423982, W: 0.674221, b: 3.103190\n",
            "step: 100, loss: 0.293882, W: 0.596618, b: 3.455202\n",
            "step: 120, loss: 0.228761, W: 0.541715, b: 3.704247\n",
            "step: 140, loss: 0.196166, W: 0.502872, b: 3.880443\n",
            "step: 160, loss: 0.179851, W: 0.475390, b: 4.005100\n",
            "step: 180, loss: 0.171684, W: 0.455948, b: 4.093294\n",
            "step: 200, loss: 0.167597, W: 0.442192, b: 4.155689\n",
            "step: 220, loss: 0.165551, W: 0.432460, b: 4.199833\n",
            "step: 240, loss: 0.164526, W: 0.425575, b: 4.231065\n",
            "step: 260, loss: 0.164014, W: 0.420704, b: 4.253161\n",
            "step: 280, loss: 0.163757, W: 0.417258, b: 4.268794\n",
            "step: 300, loss: 0.163629, W: 0.414820, b: 4.279853\n",
            "step: 320, loss: 0.163565, W: 0.413094, b: 4.287679\n",
            "step: 340, loss: 0.163532, W: 0.411874, b: 4.293215\n",
            "step: 360, loss: 0.163516, W: 0.411011, b: 4.297131\n",
            "step: 380, loss: 0.163508, W: 0.410400, b: 4.299902\n",
            "step: 400, loss: 0.163504, W: 0.409967, b: 4.301862\n"
          ],
          "name": "stdout"
        }
      ]
    },
    {
      "cell_type": "markdown",
      "metadata": {
        "id": "Rv9sPttpgHm3",
        "colab_type": "text"
      },
      "source": [
        "# Visualizamos los resultados\n",
        "\n"
      ]
    },
    {
      "cell_type": "code",
      "metadata": {
        "id": "z_vHos4WgaMl",
        "colab_type": "code",
        "colab": {}
      },
      "source": [
        "# Guardamos los ultimos resultados de W y b \n",
        "\n",
        "slope=W.numpy()\n",
        "intercept=b.numpy()"
      ],
      "execution_count": 0,
      "outputs": []
    },
    {
      "cell_type": "code",
      "metadata": {
        "id": "bG291q94gaRh",
        "colab_type": "code",
        "outputId": "97af2098-76f0-4cf6-e5e1-5d3e05592db1",
        "colab": {
          "base_uri": "https://localhost:8080/",
          "height": 85
        }
      },
      "source": [
        "print('La ecuación de la recta es : ' )\n",
        "print('\\n') \n",
        "print(str(np.round(slope,3))+ 'x +' + str(np.round(intercept,3)))"
      ],
      "execution_count": 21,
      "outputs": [
        {
          "output_type": "stream",
          "text": [
            "La ecuación de la recta es : \n",
            "\n",
            "\n",
            "0.41x +4.302\n"
          ],
          "name": "stdout"
        }
      ]
    },
    {
      "cell_type": "code",
      "metadata": {
        "id": "p9R_8Mz-goDj",
        "colab_type": "code",
        "colab": {}
      },
      "source": [
        "best_fit=[]\n",
        "for i in x_vals:\n",
        "  best_fit.append(slope*i + intercept)"
      ],
      "execution_count": 0,
      "outputs": []
    },
    {
      "cell_type": "code",
      "metadata": {
        "id": "7iOh_jq-A5Di",
        "colab_type": "code",
        "outputId": "de8afa33-355e-4dba-d8de-aab21fe1f5c6",
        "colab": {
          "base_uri": "https://localhost:8080/",
          "height": 296
        }
      },
      "source": [
        "# Configuración de nuestro grafico\n",
        "plt.title('Longitud de sépalos Vs Longitud de Pétalo')\n",
        "plt.xlabel('Longitud del Pétalo')\n",
        "plt.ylabel('Longitud del Sépalo')\n",
        "plt.plot(x_vals, y_vals, 'o', label='Original data')\n",
        "plt.plot(x_vals,best_fit,'r-',label='Recta de Regresión TF',linewidth=4)\n",
        "plt.legend()\n",
        "plt.show()"
      ],
      "execution_count": 23,
      "outputs": [
        {
          "output_type": "display_data",
          "data": {
            "image/png": "[encoded data removed]",
            "text/plain": [
              "<Figure size 432x288 with 1 Axes>"
            ]
          },
          "metadata": {
            "tags": []
          }
        }
      ]
    },
    {
      "cell_type": "code",
      "metadata": {
        "id": "aUCa2LiNfYe1",
        "colab_type": "code",
        "colab": {}
      },
      "source": [
        "itera=[]\n",
        "for i in range(len(fun_per)):\n",
        "  itera.append(i)"
      ],
      "execution_count": 0,
      "outputs": []
    },
    {
      "cell_type": "code",
      "metadata": {
        "id": "29_3Kh4Qd-s_",
        "colab_type": "code",
        "outputId": "febfee7f-4f2d-4262-f59f-24e94214683f",
        "colab": {
          "base_uri": "https://localhost:8080/",
          "height": 295
        }
      },
      "source": [
        "plt.title('Funcion de perdida')\n",
        "plt.xlabel('iteraciones')\n",
        "plt.ylabel('loss')\n",
        "plt.plot(itera, fun_per, '-k', label='Error ')\n",
        "#plt.plot(x_vals,best_fit,'r-',label='Recta de Regresión TF',linewidth=4)\n",
        "plt.legend()\n",
        "plt.show()"
      ],
      "execution_count": 25,
      "outputs": [
        {
          "output_type": "display_data",
          "data": {
            "image/png": "[encoded data removed]",
            "text/plain": [
              "<Figure size 432x288 with 1 Axes>"
            ]
          },
          "metadata": {
            "tags": []
          }
        }
      ]
    },
    {
      "cell_type": "markdown",
      "metadata": {
        "id": "k3znRNzh67a3",
        "colab_type": "text"
      },
      "source": [
        "# FINAL"
      ]
    },
    {
      "cell_type": "code",
      "metadata": {
        "id": "4GUU-RYjx9wx",
        "colab_type": "code",
        "colab": {}
      },
      "source": [
        ""
      ],
      "execution_count": 0,
      "outputs": []
    }
  ]
}