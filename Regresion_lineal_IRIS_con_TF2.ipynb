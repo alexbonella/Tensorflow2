{
  "nbformat": 4,
  "nbformat_minor": 0,
  "metadata": {
    "colab": {
      "name": "Regresion lineal IRIS con TF2.ipynb",
      "version": "0.3.2",
      "provenance": [],
      "collapsed_sections": [],
      "include_colab_link": true
    },
    "kernelspec": {
      "name": "python3",
      "display_name": "Python 3"
    }
  },
  "cells": [
    {
      "cell_type": "markdown",
      "metadata": {
        "id": "view-in-github",
        "colab_type": "text"
      },
      "source": [
        "<a href=\"https://colab.research.google.com/github/alexbonella/Tensorflow2/blob/master/Regresion_lineal_IRIS_con_TF2.ipynb\" target=\"_parent\"><img src=\"https://colab.research.google.com/assets/colab-badge.svg\" alt=\"Open In Colab\"/></a>"
      ]
    },
    {
      "cell_type": "code",
      "metadata": {
        "id": "U4NG-nQg-KP3",
        "colab_type": "code",
        "outputId": "9c601b23-ec17-4d30-e824-347c548396a0",
        "colab": {
          "base_uri": "https://localhost:8080/",
          "height": 377
        }
      },
      "source": [
        "# Instalamos tensorflow 2 en la GPU (Google_colab -->>> Gratis )\n",
        "\n",
        "!pip install tensorflow-gpu==2.0.0-beta1"
      ],
      "execution_count": 102,
      "outputs": [
        {
          "output_type": "stream",
          "text": [
            "Requirement already satisfied: tensorflow-gpu==2.0.0-beta1 in /usr/local/lib/python3.6/dist-packages (2.0.0b1)\n",
            "Requirement already satisfied: termcolor>=1.1.0 in /usr/local/lib/python3.6/dist-packages (from tensorflow-gpu==2.0.0-beta1) (1.1.0)\n",
            "Requirement already satisfied: absl-py>=0.7.0 in /usr/local/lib/python3.6/dist-packages (from tensorflow-gpu==2.0.0-beta1) (0.7.1)\n",
            "Requirement already satisfied: wrapt>=1.11.1 in /usr/local/lib/python3.6/dist-packages (from tensorflow-gpu==2.0.0-beta1) (1.11.2)\n",
            "Requirement already satisfied: keras-applications>=1.0.6 in /usr/local/lib/python3.6/dist-packages (from tensorflow-gpu==2.0.0-beta1) (1.0.8)\n",
            "Requirement already satisfied: gast>=0.2.0 in /usr/local/lib/python3.6/dist-packages (from tensorflow-gpu==2.0.0-beta1) (0.2.2)\n",
            "Requirement already satisfied: protobuf>=3.6.1 in /usr/local/lib/python3.6/dist-packages (from tensorflow-gpu==2.0.0-beta1) (3.7.1)\n",
            "Requirement already satisfied: grpcio>=1.8.6 in /usr/local/lib/python3.6/dist-packages (from tensorflow-gpu==2.0.0-beta1) (1.15.0)\n",
            "Requirement already satisfied: astor>=0.6.0 in /usr/local/lib/python3.6/dist-packages (from tensorflow-gpu==2.0.0-beta1) (0.8.0)\n",
            "Requirement already satisfied: keras-preprocessing>=1.0.5 in /usr/local/lib/python3.6/dist-packages (from tensorflow-gpu==2.0.0-beta1) (1.1.0)\n",
            "Requirement already satisfied: six>=1.10.0 in /usr/local/lib/python3.6/dist-packages (from tensorflow-gpu==2.0.0-beta1) (1.12.0)\n",
            "Requirement already satisfied: numpy<2.0,>=1.14.5 in /usr/local/lib/python3.6/dist-packages (from tensorflow-gpu==2.0.0-beta1) (1.16.4)\n",
            "Requirement already satisfied: wheel>=0.26 in /usr/local/lib/python3.6/dist-packages (from tensorflow-gpu==2.0.0-beta1) (0.33.4)\n",
            "Requirement already satisfied: tf-estimator-nightly<1.14.0.dev2019060502,>=1.14.0.dev2019060501 in /usr/local/lib/python3.6/dist-packages (from tensorflow-gpu==2.0.0-beta1) (1.14.0.dev2019060501)\n",
            "Requirement already satisfied: google-pasta>=0.1.6 in /usr/local/lib/python3.6/dist-packages (from tensorflow-gpu==2.0.0-beta1) (0.1.7)\n",
            "Requirement already satisfied: tb-nightly<1.14.0a20190604,>=1.14.0a20190603 in /usr/local/lib/python3.6/dist-packages (from tensorflow-gpu==2.0.0-beta1) (1.14.0a20190603)\n",
            "Requirement already satisfied: h5py in /usr/local/lib/python3.6/dist-packages (from keras-applications>=1.0.6->tensorflow-gpu==2.0.0-beta1) (2.8.0)\n",
            "Requirement already satisfied: setuptools in /usr/local/lib/python3.6/dist-packages (from protobuf>=3.6.1->tensorflow-gpu==2.0.0-beta1) (41.0.1)\n",
            "Requirement already satisfied: markdown>=2.6.8 in /usr/local/lib/python3.6/dist-packages (from tb-nightly<1.14.0a20190604,>=1.14.0a20190603->tensorflow-gpu==2.0.0-beta1) (3.1.1)\n",
            "Requirement already satisfied: werkzeug>=0.11.15 in /usr/local/lib/python3.6/dist-packages (from tb-nightly<1.14.0a20190604,>=1.14.0a20190603->tensorflow-gpu==2.0.0-beta1) (0.15.4)\n"
          ],
          "name": "stdout"
        }
      ]
    },
    {
      "cell_type": "code",
      "metadata": {
        "id": "ibmLZwTh5SbO",
        "colab_type": "code",
        "colab": {}
      },
      "source": [
        "from __future__ import absolute_import, division, print_function\n",
        "import matplotlib.pyplot as plt \n",
        "import numpy as np\n",
        "import tensorflow as tf \n",
        "import math\n",
        "import seaborn as sns \n",
        "from sklearn import datasets\n",
        "import pandas as pd \n",
        "from scipy.stats import pearsonr\n",
        "\n",
        "#tf.__version__"
      ],
      "execution_count": 0,
      "outputs": []
    },
    {
      "cell_type": "markdown",
      "metadata": {
        "id": "M3iDtFSS-flb",
        "colab_type": "text"
      },
      "source": [
        "# Caso de estudio set de datos IRIS\n",
        "\n",
        "En el siguiente ejemplo vamos a realizar una regresion lineal en ***`tensorflow2`*** con el Dataset IRIS que se encuentra en ***`sklearn`***"
      ]
    },
    {
      "cell_type": "code",
      "metadata": {
        "id": "hUNIxffo5rLR",
        "colab_type": "code",
        "colab": {}
      },
      "source": [
        "# Cargamos el set de datos de iris \n",
        "\n",
        "iris = datasets.load_iris()"
      ],
      "execution_count": 0,
      "outputs": []
    },
    {
      "cell_type": "code",
      "metadata": {
        "id": "YA3GKJsN5XF2",
        "colab_type": "code",
        "outputId": "24010377-5c93-44bb-98a0-c554a3d2835e",
        "colab": {
          "base_uri": "https://localhost:8080/",
          "height": 85
        }
      },
      "source": [
        "iris.feature_names  # Nombre de las columnas "
      ],
      "execution_count": 105,
      "outputs": [
        {
          "output_type": "execute_result",
          "data": {
            "text/plain": [
              "['sepal length (cm)',\n",
              " 'sepal width (cm)',\n",
              " 'petal length (cm)',\n",
              " 'petal width (cm)']"
            ]
          },
          "metadata": {
            "tags": []
          },
          "execution_count": 105
        }
      ]
    },
    {
      "cell_type": "code",
      "metadata": {
        "id": "YkTT7FMH6XTD",
        "colab_type": "code",
        "outputId": "1aa48519-f605-4772-a685-761d907237ce",
        "colab": {
          "base_uri": "https://localhost:8080/",
          "height": 34
        }
      },
      "source": [
        "iris.feature_names[2]  # Longitud del petalo"
      ],
      "execution_count": 106,
      "outputs": [
        {
          "output_type": "execute_result",
          "data": {
            "text/plain": [
              "'petal length (cm)'"
            ]
          },
          "metadata": {
            "tags": []
          },
          "execution_count": 106
        }
      ]
    },
    {
      "cell_type": "code",
      "metadata": {
        "id": "Oxz3z4F47V4y",
        "colab_type": "code",
        "colab": {}
      },
      "source": [
        "# Creamos nuestro Dataframe \n",
        "\n",
        "df=pd.DataFrame(iris.data)"
      ],
      "execution_count": 0,
      "outputs": []
    },
    {
      "cell_type": "code",
      "metadata": {
        "id": "vfAZymUB7bj9",
        "colab_type": "code",
        "colab": {}
      },
      "source": [
        "# Editamos los nombres de las columnas\n",
        "\n",
        "df=df.rename(columns={0:iris.feature_names[0],1:iris.feature_names[1],2:iris.feature_names[2],3:iris.feature_names[3] } )"
      ],
      "execution_count": 0,
      "outputs": []
    },
    {
      "cell_type": "code",
      "metadata": {
        "id": "y0podbjG8QLS",
        "colab_type": "code",
        "outputId": "0cd4cdb5-431a-49ba-db58-4ce66a2bfc3b",
        "colab": {
          "base_uri": "https://localhost:8080/",
          "height": 142
        }
      },
      "source": [
        "df.head(3)"
      ],
      "execution_count": 109,
      "outputs": [
        {
          "output_type": "execute_result",
          "data": {
            "text/html": [
              "<div>\n",
              "<style scoped>\n",
              "    .dataframe tbody tr th:only-of-type {\n",
              "        vertical-align: middle;\n",
              "    }\n",
              "\n",
              "    .dataframe tbody tr th {\n",
              "        vertical-align: top;\n",
              "    }\n",
              "\n",
              "    .dataframe thead th {\n",
              "        text-align: right;\n",
              "    }\n",
              "</style>\n",
              "<table border=\"1\" class=\"dataframe\">\n",
              "  <thead>\n",
              "    <tr style=\"text-align: right;\">\n",
              "      <th></th>\n",
              "      <th>sepal length (cm)</th>\n",
              "      <th>sepal width (cm)</th>\n",
              "      <th>petal length (cm)</th>\n",
              "      <th>petal width (cm)</th>\n",
              "    </tr>\n",
              "  </thead>\n",
              "  <tbody>\n",
              "    <tr>\n",
              "      <th>0</th>\n",
              "      <td>5.1</td>\n",
              "      <td>3.5</td>\n",
              "      <td>1.4</td>\n",
              "      <td>0.2</td>\n",
              "    </tr>\n",
              "    <tr>\n",
              "      <th>1</th>\n",
              "      <td>4.9</td>\n",
              "      <td>3.0</td>\n",
              "      <td>1.4</td>\n",
              "      <td>0.2</td>\n",
              "    </tr>\n",
              "    <tr>\n",
              "      <th>2</th>\n",
              "      <td>4.7</td>\n",
              "      <td>3.2</td>\n",
              "      <td>1.3</td>\n",
              "      <td>0.2</td>\n",
              "    </tr>\n",
              "  </tbody>\n",
              "</table>\n",
              "</div>"
            ],
            "text/plain": [
              "   sepal length (cm)  sepal width (cm)  petal length (cm)  petal width (cm)\n",
              "0                5.1               3.5                1.4               0.2\n",
              "1                4.9               3.0                1.4               0.2\n",
              "2                4.7               3.2                1.3               0.2"
            ]
          },
          "metadata": {
            "tags": []
          },
          "execution_count": 109
        }
      ]
    },
    {
      "cell_type": "markdown",
      "metadata": {
        "id": "nYkHfKIU980b",
        "colab_type": "text"
      },
      "source": [
        "# Correlación de las variables \n",
        "\n",
        "Como podemos observar existe una fuerte correlacion entre :\n",
        "1. Ancho y largo del petalo -->> **0.96**\n",
        "1. Longitud del sepalo y longitud del petalo -->> **0.87**"
      ]
    },
    {
      "cell_type": "code",
      "metadata": {
        "id": "fmMoxynf8cws",
        "colab_type": "code",
        "outputId": "03ba6c03-c8ca-4575-9b45-0fd2e11c0f07",
        "colab": {
          "base_uri": "https://localhost:8080/",
          "height": 364
        }
      },
      "source": [
        "sns.heatmap(df.corr(),cmap='GnBu',annot=True) "
      ],
      "execution_count": 110,
      "outputs": [
        {
          "output_type": "execute_result",
          "data": {
            "text/plain": [
              "<matplotlib.axes._subplots.AxesSubplot at 0x7ffa7eaf9e10>"
            ]
          },
          "metadata": {
            "tags": []
          },
          "execution_count": 110
        },
        {
          "output_type": "display_data",
          "data": {
            "image/png": "[encoded data removed]",
            "text/plain": [
              "<Figure size 432x288 with 2 Axes>"
            ]
          },
          "metadata": {
            "tags": []
          }
        }
      ]
    },
    {
      "cell_type": "markdown",
      "metadata": {
        "id": "0Br38kTiBtSU",
        "colab_type": "text"
      },
      "source": [
        "# Agregamos las etiquetas a nuestro Dataframe"
      ]
    },
    {
      "cell_type": "code",
      "metadata": {
        "id": "FU_KKGFOBrg0",
        "colab_type": "code",
        "colab": {}
      },
      "source": [
        "df['target']=iris.target"
      ],
      "execution_count": 0,
      "outputs": []
    },
    {
      "cell_type": "markdown",
      "metadata": {
        "id": "EQG4BLiNB8MA",
        "colab_type": "text"
      },
      "source": [
        "# Agregamos el nombre de la especie "
      ]
    },
    {
      "cell_type": "code",
      "metadata": {
        "id": "m73OoxjhBrn6",
        "colab_type": "code",
        "outputId": "3b96c6f2-58f0-48e9-b82b-a2aa76c0e64c",
        "colab": {
          "base_uri": "https://localhost:8080/",
          "height": 34
        }
      },
      "source": [
        "iris.target_names"
      ],
      "execution_count": 112,
      "outputs": [
        {
          "output_type": "execute_result",
          "data": {
            "text/plain": [
              "array(['setosa', 'versicolor', 'virginica'], dtype='<U10')"
            ]
          },
          "metadata": {
            "tags": []
          },
          "execution_count": 112
        }
      ]
    },
    {
      "cell_type": "code",
      "metadata": {
        "id": "Ug2hF_EYBrv7",
        "colab_type": "code",
        "colab": {}
      },
      "source": [
        "df.loc[df['target']==0,'kind']='setosa'\n",
        "df.loc[df['target']==1,'kind']='versicolor'\n",
        "df.loc[df['target']==2,'kind']='virginica'"
      ],
      "execution_count": 0,
      "outputs": []
    },
    {
      "cell_type": "code",
      "metadata": {
        "id": "vC-WKf0cCNn_",
        "colab_type": "code",
        "outputId": "4443c784-b3f3-474d-8ef6-0425b81a0521",
        "colab": {
          "base_uri": "https://localhost:8080/",
          "height": 142
        }
      },
      "source": [
        "df.head(3)"
      ],
      "execution_count": 114,
      "outputs": [
        {
          "output_type": "execute_result",
          "data": {
            "text/html": [
              "<div>\n",
              "<style scoped>\n",
              "    .dataframe tbody tr th:only-of-type {\n",
              "        vertical-align: middle;\n",
              "    }\n",
              "\n",
              "    .dataframe tbody tr th {\n",
              "        vertical-align: top;\n",
              "    }\n",
              "\n",
              "    .dataframe thead th {\n",
              "        text-align: right;\n",
              "    }\n",
              "</style>\n",
              "<table border=\"1\" class=\"dataframe\">\n",
              "  <thead>\n",
              "    <tr style=\"text-align: right;\">\n",
              "      <th></th>\n",
              "      <th>sepal length (cm)</th>\n",
              "      <th>sepal width (cm)</th>\n",
              "      <th>petal length (cm)</th>\n",
              "      <th>petal width (cm)</th>\n",
              "      <th>target</th>\n",
              "      <th>kind</th>\n",
              "    </tr>\n",
              "  </thead>\n",
              "  <tbody>\n",
              "    <tr>\n",
              "      <th>0</th>\n",
              "      <td>5.1</td>\n",
              "      <td>3.5</td>\n",
              "      <td>1.4</td>\n",
              "      <td>0.2</td>\n",
              "      <td>0</td>\n",
              "      <td>setosa</td>\n",
              "    </tr>\n",
              "    <tr>\n",
              "      <th>1</th>\n",
              "      <td>4.9</td>\n",
              "      <td>3.0</td>\n",
              "      <td>1.4</td>\n",
              "      <td>0.2</td>\n",
              "      <td>0</td>\n",
              "      <td>setosa</td>\n",
              "    </tr>\n",
              "    <tr>\n",
              "      <th>2</th>\n",
              "      <td>4.7</td>\n",
              "      <td>3.2</td>\n",
              "      <td>1.3</td>\n",
              "      <td>0.2</td>\n",
              "      <td>0</td>\n",
              "      <td>setosa</td>\n",
              "    </tr>\n",
              "  </tbody>\n",
              "</table>\n",
              "</div>"
            ],
            "text/plain": [
              "   sepal length (cm)  sepal width (cm)  ...  target    kind\n",
              "0                5.1               3.5  ...       0  setosa\n",
              "1                4.9               3.0  ...       0  setosa\n",
              "2                4.7               3.2  ...       0  setosa\n",
              "\n",
              "[3 rows x 6 columns]"
            ]
          },
          "metadata": {
            "tags": []
          },
          "execution_count": 114
        }
      ]
    },
    {
      "cell_type": "markdown",
      "metadata": {
        "id": "weJloED__-BI",
        "colab_type": "text"
      },
      "source": [
        "# Visualizamos nuestros datos "
      ]
    },
    {
      "cell_type": "code",
      "metadata": {
        "id": "1bHt1roM9t80",
        "colab_type": "code",
        "colab": {}
      },
      "source": [
        "x_vals = np.array([x[2] for x in iris.data]) # Longitud del Pétalo\n",
        "y_vals = np.array([x[0] for x in iris.data]) # Longitud del Sépalo"
      ],
      "execution_count": 0,
      "outputs": []
    },
    {
      "cell_type": "code",
      "metadata": {
        "id": "CdZcQ2Fi9E0U",
        "colab_type": "code",
        "outputId": "6a84abc8-b2ff-44f8-ca74-786b90812a44",
        "colab": {
          "base_uri": "https://localhost:8080/",
          "height": 492
        }
      },
      "source": [
        "sns.set_style(style='darkgrid')\n",
        "sns.jointplot(x_vals,y_vals,stat_func=pearsonr,kind=\"reg\")"
      ],
      "execution_count": 116,
      "outputs": [
        {
          "output_type": "stream",
          "text": [
            "/usr/local/lib/python3.6/dist-packages/seaborn/axisgrid.py:1847: UserWarning: JointGrid annotation is deprecated and will be removed in a future release.\n",
            "  warnings.warn(UserWarning(msg))\n"
          ],
          "name": "stderr"
        },
        {
          "output_type": "execute_result",
          "data": {
            "text/plain": [
              "<seaborn.axisgrid.JointGrid at 0x7ffa7eaf98d0>"
            ]
          },
          "metadata": {
            "tags": []
          },
          "execution_count": 116
        },
        {
          "output_type": "display_data",
          "data": {
            "image/png": "[encoded data removed]",
            "text/plain": [
              "<Figure size 432x432 with 3 Axes>"
            ]
          },
          "metadata": {
            "tags": []
          }
        }
      ]
    },
    {
      "cell_type": "markdown",
      "metadata": {
        "id": "op_Vho15QmC3",
        "colab_type": "text"
      },
      "source": [
        "# Preparación del modelo en Tensorflow "
      ]
    },
    {
      "cell_type": "code",
      "metadata": {
        "id": "y1pcG632AoUG",
        "colab_type": "code",
        "colab": {}
      },
      "source": [
        "# Ingresamor parametros \n",
        "\n",
        "learning_rate=0.05\n",
        "batch_size=20\n",
        "training_steps = 400\n",
        "rng = np.random\n",
        "n_samples =len(df) "
      ],
      "execution_count": 0,
      "outputs": []
    },
    {
      "cell_type": "markdown",
      "metadata": {
        "id": "6qW7z-ovbuhI",
        "colab_type": "text"
      },
      "source": [
        "$$y=Ax+b$$"
      ]
    },
    {
      "cell_type": "markdown",
      "metadata": {
        "id": "PBFXugpxdBwX",
        "colab_type": "text"
      },
      "source": [
        "# Definimos las funciones de regresion y de perdida "
      ]
    },
    {
      "cell_type": "code",
      "metadata": {
        "id": "ZsKeSDAab0SF",
        "colab_type": "code",
        "colab": {}
      },
      "source": [
        "W = tf.Variable(rng.randn(), name=\"weight\")\n",
        "b = tf.Variable(rng.randn(), name=\"bias\")\n",
        "\n",
        "# Regresión Lineal (Wx + b).\n",
        "def linear_regression(x):\n",
        "    return W*x+b\n",
        "\n",
        "# Funcion de perdida error cuadratico medio.\n",
        "def mean_square(y_pred, y_true):\n",
        "    return tf.reduce_mean(tf.square(y_pred-y_true))\n",
        "\n",
        "# Optimizador de gradiente descendiente.\n",
        "optimizer = tf.optimizers.SGD(learning_rate)"
      ],
      "execution_count": 0,
      "outputs": []
    },
    {
      "cell_type": "code",
      "metadata": {
        "id": "Yu5f8TOZawhF",
        "colab_type": "code",
        "colab": {}
      },
      "source": [
        "# Función de optimizacion . \n",
        "def run_optimization():\n",
        "    # Diferenciacion automatica.\n",
        "    with tf.GradientTape() as g:\n",
        "        pred = linear_regression(x_vals)\n",
        "        loss = mean_square(pred, y_vals)\n",
        "\n",
        "    # Calculamos el gradiente.\n",
        "    gradients = g.gradient(loss, [W, b])\n",
        "    \n",
        "    # Actualizamos valores de W y b\n",
        "    optimizer.apply_gradients(zip(gradients, [W, b]))"
      ],
      "execution_count": 0,
      "outputs": []
    },
    {
      "cell_type": "code",
      "metadata": {
        "id": "50fjK91TA4MP",
        "colab_type": "code",
        "outputId": "bc6d6f09-d9a2-420e-d88e-2a603b0b8359",
        "colab": {
          "base_uri": "https://localhost:8080/",
          "height": 357
        }
      },
      "source": [
        "# Ejecutamos nuestro optimizador para actualizar valores de W y b.\n",
        "fun_per=[]\n",
        "for step in range(1, training_steps + 1):\n",
        "    \n",
        "    run_optimization()\n",
        "    \n",
        "    if step % batch_size == 0:\n",
        "        pred = linear_regression(x_vals)\n",
        "        loss = mean_square(pred,y_vals)\n",
        "        fun_per.append(loss)\n",
        "        print(\"step: %i, loss: %f, W: %f, b: %f\" % (step, loss, W.numpy(), b.numpy()))"
      ],
      "execution_count": 120,
      "outputs": [
        {
          "output_type": "stream",
          "text": [
            "step: 20, loss: 2.379915, W: 1.164159, b: 0.797012\n",
            "step: 40, loss: 1.269966, W: 0.955478, b: 1.826305\n",
            "step: 60, loss: 0.717330, W: 0.795763, b: 2.551856\n",
            "step: 80, loss: 0.440714, W: 0.682609, b: 3.065141\n",
            "step: 100, loss: 0.302257, W: 0.602553, b: 3.428283\n",
            "step: 120, loss: 0.232953, W: 0.545914, b: 3.685202\n",
            "step: 140, loss: 0.198264, W: 0.505842, b: 3.866969\n",
            "step: 160, loss: 0.180901, W: 0.477492, b: 3.995567\n",
            "step: 180, loss: 0.172210, W: 0.457434, b: 4.086549\n",
            "step: 200, loss: 0.167860, W: 0.443244, b: 4.150918\n",
            "step: 220, loss: 0.165682, W: 0.433205, b: 4.196457\n",
            "step: 240, loss: 0.164592, W: 0.426102, b: 4.228676\n",
            "step: 260, loss: 0.164047, W: 0.421077, b: 4.251471\n",
            "step: 280, loss: 0.163774, W: 0.417521, b: 4.267599\n",
            "step: 300, loss: 0.163637, W: 0.415006, b: 4.279008\n",
            "step: 320, loss: 0.163569, W: 0.413226, b: 4.287081\n",
            "step: 340, loss: 0.163535, W: 0.411967, b: 4.292791\n",
            "step: 360, loss: 0.163517, W: 0.411076, b: 4.296832\n",
            "step: 380, loss: 0.163509, W: 0.410446, b: 4.299691\n",
            "step: 400, loss: 0.163505, W: 0.410001, b: 4.301713\n"
          ],
          "name": "stdout"
        }
      ]
    },
    {
      "cell_type": "markdown",
      "metadata": {
        "id": "Rv9sPttpgHm3",
        "colab_type": "text"
      },
      "source": [
        "# Visualizamos los resultados\n",
        "\n"
      ]
    },
    {
      "cell_type": "code",
      "metadata": {
        "id": "z_vHos4WgaMl",
        "colab_type": "code",
        "colab": {}
      },
      "source": [
        "# Guardamos los ultimos resultados de W y b \n",
        "\n",
        "slope=W.numpy()\n",
        "intercept=b.numpy()"
      ],
      "execution_count": 0,
      "outputs": []
    },
    {
      "cell_type": "code",
      "metadata": {
        "id": "bG291q94gaRh",
        "colab_type": "code",
        "outputId": "d5cbb4f0-1231-4094-dfe1-8b17f06effe8",
        "colab": {
          "base_uri": "https://localhost:8080/",
          "height": 85
        }
      },
      "source": [
        "print('La ecuación de la recta es : ' )\n",
        "print('\\n') \n",
        "print(str(np.round(slope,3))+ 'x +' + str(np.round(intercept,3)))"
      ],
      "execution_count": 122,
      "outputs": [
        {
          "output_type": "stream",
          "text": [
            "La ecuación de la recta es : \n",
            "\n",
            "\n",
            "0.41x +4.302\n"
          ],
          "name": "stdout"
        }
      ]
    },
    {
      "cell_type": "code",
      "metadata": {
        "id": "p9R_8Mz-goDj",
        "colab_type": "code",
        "colab": {}
      },
      "source": [
        "best_fit=[]\n",
        "for i in x_vals:\n",
        "  best_fit.append(slope*i + intercept)"
      ],
      "execution_count": 0,
      "outputs": []
    },
    {
      "cell_type": "code",
      "metadata": {
        "id": "7iOh_jq-A5Di",
        "colab_type": "code",
        "outputId": "38c1406b-77ba-47ae-f69a-709dc535c9d9",
        "colab": {
          "base_uri": "https://localhost:8080/",
          "height": 296
        }
      },
      "source": [
        "# Configuración de nuestro grafico\n",
        "plt.title('Longitud de sépalos Vs Longitud de Pétalo')\n",
        "plt.xlabel('Longitud del Pétalo')\n",
        "plt.ylabel('Longitud del Sépalo')\n",
        "plt.plot(x_vals, y_vals, 'o', label='Original data')\n",
        "plt.plot(x_vals,best_fit,'r-',label='Recta de Regresión TF',linewidth=4)\n",
        "plt.legend()\n",
        "plt.show()"
      ],
      "execution_count": 124,
      "outputs": [
        {
          "output_type": "display_data",
          "data": {
            "image/png": "[encoded data removed]",
            "text/plain": [
              "<Figure size 432x288 with 1 Axes>"
            ]
          },
          "metadata": {
            "tags": []
          }
        }
      ]
    },
    {
      "cell_type": "code",
      "metadata": {
        "id": "Q2hFFObcBlzr",
        "colab_type": "code",
        "outputId": "60153c5d-8e80-4252-8007-205d6a35be7e",
        "colab": {
          "base_uri": "https://localhost:8080/",
          "height": 357
        }
      },
      "source": [
        "fun_per"
      ],
      "execution_count": 125,
      "outputs": [
        {
          "output_type": "execute_result",
          "data": {
            "text/plain": [
              "[<tf.Tensor: id=56595, shape=(), dtype=float32, numpy=2.3799155>,\n",
              " <tf.Tensor: id=57450, shape=(), dtype=float32, numpy=1.269966>,\n",
              " <tf.Tensor: id=58305, shape=(), dtype=float32, numpy=0.71732974>,\n",
              " <tf.Tensor: id=59160, shape=(), dtype=float32, numpy=0.4407138>,\n",
              " <tf.Tensor: id=60015, shape=(), dtype=float32, numpy=0.30225685>,\n",
              " <tf.Tensor: id=60870, shape=(), dtype=float32, numpy=0.23295331>,\n",
              " <tf.Tensor: id=61725, shape=(), dtype=float32, numpy=0.19826424>,\n",
              " <tf.Tensor: id=62580, shape=(), dtype=float32, numpy=0.1809011>,\n",
              " <tf.Tensor: id=63435, shape=(), dtype=float32, numpy=0.17221004>,\n",
              " <tf.Tensor: id=64290, shape=(), dtype=float32, numpy=0.16785981>,\n",
              " <tf.Tensor: id=65145, shape=(), dtype=float32, numpy=0.16568235>,\n",
              " <tf.Tensor: id=66000, shape=(), dtype=float32, numpy=0.16459247>,\n",
              " <tf.Tensor: id=66855, shape=(), dtype=float32, numpy=0.16404693>,\n",
              " <tf.Tensor: id=67710, shape=(), dtype=float32, numpy=0.16377383>,\n",
              " <tf.Tensor: id=68565, shape=(), dtype=float32, numpy=0.16363718>,\n",
              " <tf.Tensor: id=69420, shape=(), dtype=float32, numpy=0.1635688>,\n",
              " <tf.Tensor: id=70275, shape=(), dtype=float32, numpy=0.16353455>,\n",
              " <tf.Tensor: id=71130, shape=(), dtype=float32, numpy=0.16351742>,\n",
              " <tf.Tensor: id=71985, shape=(), dtype=float32, numpy=0.1635088>,\n",
              " <tf.Tensor: id=72840, shape=(), dtype=float32, numpy=0.16350454>]"
            ]
          },
          "metadata": {
            "tags": []
          },
          "execution_count": 125
        }
      ]
    },
    {
      "cell_type": "code",
      "metadata": {
        "id": "aUCa2LiNfYe1",
        "colab_type": "code",
        "colab": {}
      },
      "source": [
        "itera=[]\n",
        "for i in range(len(fun_per)):\n",
        "  itera.append(i)"
      ],
      "execution_count": 0,
      "outputs": []
    },
    {
      "cell_type": "code",
      "metadata": {
        "id": "29_3Kh4Qd-s_",
        "colab_type": "code",
        "outputId": "8e673497-2f0f-4cd0-8172-440e2cd4ff69",
        "colab": {
          "base_uri": "https://localhost:8080/",
          "height": 295
        }
      },
      "source": [
        "plt.title('Funcion de perdida')\n",
        "plt.xlabel('iteraciones')\n",
        "plt.ylabel('loss')\n",
        "plt.plot(itera, fun_per, '-k', label='Error ')\n",
        "#plt.plot(x_vals,best_fit,'r-',label='Recta de Regresión TF',linewidth=4)\n",
        "plt.legend()\n",
        "plt.show()"
      ],
      "execution_count": 127,
      "outputs": [
        {
          "output_type": "display_data",
          "data": {
            "image/png": "[encoded data removed]",
            "text/plain": [
              "<Figure size 432x288 with 1 Axes>"
            ]
          },
          "metadata": {
            "tags": []
          }
        }
      ]
    },
    {
      "cell_type": "markdown",
      "metadata": {
        "id": "k3znRNzh67a3",
        "colab_type": "text"
      },
      "source": [
        "# FINAL"
      ]
    },
    {
      "cell_type": "code",
      "metadata": {
        "id": "4GUU-RYjx9wx",
        "colab_type": "code",
        "colab": {}
      },
      "source": [
        ""
      ],
      "execution_count": 0,
      "outputs": []
    }
  ]
}