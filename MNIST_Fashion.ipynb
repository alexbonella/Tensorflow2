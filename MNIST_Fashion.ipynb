{
  "nbformat": 4,
  "nbformat_minor": 0,
  "metadata": {
    "colab": {
      "name": "MNIST_Fashion.ipynb",
      "provenance": [],
      "collapsed_sections": [],
      "authorship_tag": "ABX9TyMQGIp0C9+z0CzrotW96P7+",
      "include_colab_link": true
    },
    "kernelspec": {
      "name": "python3",
      "display_name": "Python 3"
    }
  },
  "cells": [
    {
      "cell_type": "markdown",
      "metadata": {
        "id": "view-in-github",
        "colab_type": "text"
      },
      "source": [
        "<a href=\"https://colab.research.google.com/github/alexbonella/Tensorflow2/blob/master/MNIST_Fashion.ipynb\" target=\"_parent\"><img src=\"https://colab.research.google.com/assets/colab-badge.svg\" alt=\"Open In Colab\"/></a>"
      ]
    },
    {
      "cell_type": "code",
      "metadata": {
        "id": "30e5wQ_LKsZv",
        "colab_type": "code",
        "colab": {}
      },
      "source": [
        "# Instalamos Tensorflow"
      ],
      "execution_count": 0,
      "outputs": []
    },
    {
      "cell_type": "code",
      "metadata": {
        "id": "a9AVVAXYB4jO",
        "colab_type": "code",
        "colab": {}
      },
      "source": [
        "#!pip install tensorflow==2.0.0-beta1"
      ],
      "execution_count": 0,
      "outputs": []
    },
    {
      "cell_type": "code",
      "metadata": {
        "id": "_pL2yjiiCOBo",
        "colab_type": "code",
        "outputId": "493cc611-4fb0-47a9-893e-413b69ff0b16",
        "colab": {
          "base_uri": "https://localhost:8080/",
          "height": 35
        }
      },
      "source": [
        "try:\n",
        "  # %tensorflow_version only exists in Colab.\n",
        "  %tensorflow_version 2.x\n",
        "except Exception:\n",
        "  pass"
      ],
      "execution_count": 3,
      "outputs": [
        {
          "output_type": "stream",
          "text": [
            "TensorFlow 2.x selected.\n"
          ],
          "name": "stdout"
        }
      ]
    },
    {
      "cell_type": "code",
      "metadata": {
        "id": "WXHnscmhAscR",
        "colab_type": "code",
        "colab": {}
      },
      "source": [
        "# Importamos librerias "
      ],
      "execution_count": 0,
      "outputs": []
    },
    {
      "cell_type": "code",
      "metadata": {
        "id": "Vqjzf4ZWBjOS",
        "colab_type": "code",
        "outputId": "a94e6ded-4144-4ebc-ef41-bdb9e1671fdf",
        "colab": {
          "base_uri": "https://localhost:8080/",
          "height": 35
        }
      },
      "source": [
        "from __future__ import absolute_import, division, print_function, unicode_literals\n",
        "\n",
        "# TensorFlow y tf.keras\n",
        "import tensorflow as tf\n",
        "from tensorflow import keras\n",
        "\n",
        "# Librerias de ayuda\n",
        "import numpy as np\n",
        "import matplotlib.pyplot as plt\n",
        "\n",
        "print(tf.__version__)"
      ],
      "execution_count": 5,
      "outputs": [
        {
          "output_type": "stream",
          "text": [
            "2.1.0\n"
          ],
          "name": "stdout"
        }
      ]
    },
    {
      "cell_type": "markdown",
      "metadata": {
        "id": "dVbZZFP_JiTl",
        "colab_type": "text"
      },
      "source": [
        "# Importamos Dataset Fashion MNIST"
      ]
    },
    {
      "cell_type": "code",
      "metadata": {
        "id": "MPqKzl2SJmFY",
        "colab_type": "code",
        "colab": {
          "base_uri": "https://localhost:8080/",
          "height": 163
        },
        "outputId": "4e855819-527d-42c7-8b91-33b64048eb79"
      },
      "source": [
        "fashion_mnist = keras.datasets.fashion_mnist\n",
        "\n",
        "(train_images, train_labels), (test_images, test_labels) = fashion_mnist.load_data()"
      ],
      "execution_count": 6,
      "outputs": [
        {
          "output_type": "stream",
          "text": [
            "Downloading data from https://storage.googleapis.com/tensorflow/tf-keras-datasets/train-labels-idx1-ubyte.gz\n",
            "32768/29515 [=================================] - 0s 0us/step\n",
            "Downloading data from https://storage.googleapis.com/tensorflow/tf-keras-datasets/train-images-idx3-ubyte.gz\n",
            "26427392/26421880 [==============================] - 0s 0us/step\n",
            "Downloading data from https://storage.googleapis.com/tensorflow/tf-keras-datasets/t10k-labels-idx1-ubyte.gz\n",
            "8192/5148 [===============================================] - 0s 0us/step\n",
            "Downloading data from https://storage.googleapis.com/tensorflow/tf-keras-datasets/t10k-images-idx3-ubyte.gz\n",
            "4423680/4422102 [==============================] - 0s 0us/step\n"
          ],
          "name": "stdout"
        }
      ]
    },
    {
      "cell_type": "markdown",
      "metadata": {
        "id": "3wM6f6PKJ8yH",
        "colab_type": "text"
      },
      "source": [
        "# Exploramos el numero de imagenes "
      ]
    },
    {
      "cell_type": "code",
      "metadata": {
        "id": "B6CcW-L3JU8J",
        "colab_type": "code",
        "outputId": "3b84b8c1-29bf-49e3-df70-0bceb1fb9591",
        "colab": {
          "base_uri": "https://localhost:8080/",
          "height": 35
        }
      },
      "source": [
        "len(train_labels) # 6000 imagenes de entrenamiento"
      ],
      "execution_count": 7,
      "outputs": [
        {
          "output_type": "execute_result",
          "data": {
            "text/plain": [
              "60000"
            ]
          },
          "metadata": {
            "tags": []
          },
          "execution_count": 7
        }
      ]
    },
    {
      "cell_type": "code",
      "metadata": {
        "id": "U15TAu1uJvsV",
        "colab_type": "code",
        "outputId": "dbc8b68f-28b0-4cbb-c4f8-db432915a54b",
        "colab": {
          "base_uri": "https://localhost:8080/",
          "height": 35
        }
      },
      "source": [
        "train_labels # 10 etiquetas "
      ],
      "execution_count": 8,
      "outputs": [
        {
          "output_type": "execute_result",
          "data": {
            "text/plain": [
              "array([9, 0, 0, ..., 3, 0, 5], dtype=uint8)"
            ]
          },
          "metadata": {
            "tags": []
          },
          "execution_count": 8
        }
      ]
    },
    {
      "cell_type": "markdown",
      "metadata": {
        "id": "-q8glrHVKJS2",
        "colab_type": "text"
      },
      "source": [
        "# Dimensiones de nuestras imagenes"
      ]
    },
    {
      "cell_type": "code",
      "metadata": {
        "id": "E9kDxKMrKQCG",
        "colab_type": "code",
        "outputId": "45292465-0ee4-42e9-921d-3a3e31fe86f1",
        "colab": {
          "base_uri": "https://localhost:8080/",
          "height": 35
        }
      },
      "source": [
        "train_images.shape  # 6000 Imagenes de entrenamiento"
      ],
      "execution_count": 9,
      "outputs": [
        {
          "output_type": "execute_result",
          "data": {
            "text/plain": [
              "(60000, 28, 28)"
            ]
          },
          "metadata": {
            "tags": []
          },
          "execution_count": 9
        }
      ]
    },
    {
      "cell_type": "code",
      "metadata": {
        "id": "2TETS62KJzVr",
        "colab_type": "code",
        "outputId": "56c67b79-8177-4d56-dd46-d262c3ad5711",
        "colab": {
          "base_uri": "https://localhost:8080/",
          "height": 35
        }
      },
      "source": [
        "test_images.shape  # 10000 Imagenes de validación"
      ],
      "execution_count": 10,
      "outputs": [
        {
          "output_type": "execute_result",
          "data": {
            "text/plain": [
              "(10000, 28, 28)"
            ]
          },
          "metadata": {
            "tags": []
          },
          "execution_count": 10
        }
      ]
    },
    {
      "cell_type": "markdown",
      "metadata": {
        "id": "u7S2lHfCKkLn",
        "colab_type": "text"
      },
      "source": [
        "# Visualización de imagen"
      ]
    },
    {
      "cell_type": "code",
      "metadata": {
        "id": "bSuqO-SbKnNA",
        "colab_type": "code",
        "outputId": "9a9290bd-25a0-450d-d742-751d3631e4ae",
        "colab": {
          "base_uri": "https://localhost:8080/",
          "height": 265
        }
      },
      "source": [
        "plt.figure()\n",
        "plt.imshow(train_images[1])\n",
        "plt.colorbar()\n",
        "plt.grid(False)\n",
        "plt.show()"
      ],
      "execution_count": 11,
      "outputs": [
        {
          "output_type": "display_data",
          "data": {
            "image/png": "[encoded data removed]",
            "text/plain": [
              "<Figure size 432x288 with 2 Axes>"
            ]
          },
          "metadata": {
            "tags": []
          }
        }
      ]
    },
    {
      "cell_type": "markdown",
      "metadata": {
        "id": "4Ihj7g7YK8Gb",
        "colab_type": "text"
      },
      "source": [
        "# Normalización de nuestro dataset \n",
        "\n",
        "A continuación dividimos nuestras imagenes por 255 para obtener valores entre 0 y 1 "
      ]
    },
    {
      "cell_type": "code",
      "metadata": {
        "id": "nBydLeqxJVCE",
        "colab_type": "code",
        "colab": {}
      },
      "source": [
        "train_images = train_images / 255.0\n",
        "\n",
        "test_images = test_images / 255.0"
      ],
      "execution_count": 0,
      "outputs": []
    },
    {
      "cell_type": "markdown",
      "metadata": {
        "id": "IBQa_TvvLYcU",
        "colab_type": "text"
      },
      "source": [
        "# Visualizamos algunas imagenes para verificar el etiquetado "
      ]
    },
    {
      "cell_type": "code",
      "metadata": {
        "id": "k-QBvawqLvQ6",
        "colab_type": "code",
        "colab": {}
      },
      "source": [
        "class_names = ['T-shirt/top', 'Trouser', 'Pullover', 'Dress', 'Coat',\n",
        "               'Sandal', 'Shirt', 'Sneaker', 'Bag', 'Ankle boot']"
      ],
      "execution_count": 0,
      "outputs": []
    },
    {
      "cell_type": "code",
      "metadata": {
        "id": "n4BHNiGUJVIQ",
        "colab_type": "code",
        "outputId": "d0c1eb29-fdfd-4ece-cbe0-38e56de4a4dc",
        "colab": {
          "base_uri": "https://localhost:8080/",
          "height": 476
        }
      },
      "source": [
        "plt.figure(figsize=(10,10))\n",
        "for i in range(20):\n",
        "    plt.subplot(5,5,i+1)\n",
        "    plt.xticks([])\n",
        "    plt.yticks([])\n",
        "    plt.grid(False)\n",
        "    plt.imshow(train_images[i], cmap=plt.cm.binary)\n",
        "    plt.xlabel(class_names[train_labels[i]])\n",
        "plt.show()"
      ],
      "execution_count": 14,
      "outputs": [
        {
          "output_type": "display_data",
          "data": {
            "image/png": "[encoded data removed]",
            "text/plain": [
              "<Figure size 720x720 with 20 Axes>"
            ]
          },
          "metadata": {
            "tags": []
          }
        }
      ]
    },
    {
      "cell_type": "markdown",
      "metadata": {
        "id": "YMXUziLWaO3b",
        "colab_type": "text"
      },
      "source": [
        "# Transformamos el tamaño de nuestras imagenes\n"
      ]
    },
    {
      "cell_type": "code",
      "metadata": {
        "id": "gSNpOZhZaN0D",
        "colab_type": "code",
        "outputId": "323061aa-95ca-4576-8963-fce704a32f2b",
        "colab": {
          "base_uri": "https://localhost:8080/",
          "height": 90
        }
      },
      "source": [
        "\n",
        "train_images = train_images.reshape(60000,28,28,1)\n",
        "test_images = test_images.reshape(10000,28,28,1)\n",
        "\n",
        "print(train_images.shape)\n",
        "print('\\n')\n",
        "print(test_images.shape)"
      ],
      "execution_count": 15,
      "outputs": [
        {
          "output_type": "stream",
          "text": [
            "(60000, 28, 28, 1)\n",
            "\n",
            "\n",
            "(10000, 28, 28, 1)\n"
          ],
          "name": "stdout"
        }
      ]
    },
    {
      "cell_type": "code",
      "metadata": {
        "id": "OH9lLIhAPuLy",
        "colab_type": "code",
        "colab": {}
      },
      "source": [
        "# Cargamos archivos a Colab \n",
        "\n",
        "#from google.colab import files\n",
        "#uploaded = files.upload()"
      ],
      "execution_count": 0,
      "outputs": []
    },
    {
      "cell_type": "markdown",
      "metadata": {
        "id": "C7MmxZDIT974",
        "colab_type": "text"
      },
      "source": [
        "# Arquitectura LeNet-5\n",
        "\n"
      ]
    },
    {
      "cell_type": "markdown",
      "metadata": {
        "id": "kx6jCIzVTTOw",
        "colab_type": "text"
      },
      "source": [
        "  <tr><td>\n",
        "    <img src=\"https://miro.medium.com/max/4308/1*1TI1aGBZ4dybR6__DI9dzA.png\"\n",
        "         alt=\"Fashion MNIST sprite\"  width=\"600\">\n",
        "  </td></tr>"
      ]
    },
    {
      "cell_type": "markdown",
      "metadata": {
        "id": "Lu0OwLenUuSo",
        "colab_type": "text"
      },
      "source": [
        "**NOTA :** Hacemos uso una arquitectura muy conocida y usada en las redes convolucionales para configurar las capas de nuestro modelo "
      ]
    },
    {
      "cell_type": "code",
      "metadata": {
        "id": "Gob51lIFJVKb",
        "colab_type": "code",
        "colab": {}
      },
      "source": [
        "model = keras.Sequential([\n",
        "    \n",
        "    # CONV1 Y MAX-POOLING1\n",
        "    keras.layers.Conv2D(filters=6, kernel_size=(5,5), activation='relu', input_shape=(28,28,1)),\n",
        "    keras.layers.MaxPool2D(pool_size=(2,2)),\n",
        "    \n",
        "    # CONV2 Y MAX-POOLING2\n",
        "    \n",
        "    keras.layers.Conv2D(filters=16, kernel_size=(5,5), activation='relu'),\n",
        "    keras.layers.MaxPool2D(pool_size=(2,2)),\n",
        "    \n",
        "    # Aplanar, FC1, FC2 y salida\n",
        "    keras.layers.Flatten(),\n",
        "    keras.layers.Dense(120, activation='relu'),\n",
        "    keras.layers.Dense(84, activation='relu'),\n",
        "    keras.layers.Dense(10, activation='softmax')\n",
        "])"
      ],
      "execution_count": 0,
      "outputs": []
    },
    {
      "cell_type": "code",
      "metadata": {
        "id": "b97zIEpFkQ-c",
        "colab_type": "code",
        "colab": {
          "base_uri": "https://localhost:8080/",
          "height": 454
        },
        "outputId": "b089f910-597f-4f1c-e935-4701b3aff985"
      },
      "source": [
        "model.summary()"
      ],
      "execution_count": 18,
      "outputs": [
        {
          "output_type": "stream",
          "text": [
            "Model: \"sequential\"\n",
            "_________________________________________________________________\n",
            "Layer (type)                 Output Shape              Param #   \n",
            "=================================================================\n",
            "conv2d (Conv2D)              (None, 24, 24, 6)         156       \n",
            "_________________________________________________________________\n",
            "max_pooling2d (MaxPooling2D) (None, 12, 12, 6)         0         \n",
            "_________________________________________________________________\n",
            "conv2d_1 (Conv2D)            (None, 8, 8, 16)          2416      \n",
            "_________________________________________________________________\n",
            "max_pooling2d_1 (MaxPooling2 (None, 4, 4, 16)          0         \n",
            "_________________________________________________________________\n",
            "flatten (Flatten)            (None, 256)               0         \n",
            "_________________________________________________________________\n",
            "dense (Dense)                (None, 120)               30840     \n",
            "_________________________________________________________________\n",
            "dense_1 (Dense)              (None, 84)                10164     \n",
            "_________________________________________________________________\n",
            "dense_2 (Dense)              (None, 10)                850       \n",
            "=================================================================\n",
            "Total params: 44,426\n",
            "Trainable params: 44,426\n",
            "Non-trainable params: 0\n",
            "_________________________________________________________________\n"
          ],
          "name": "stdout"
        }
      ]
    },
    {
      "cell_type": "markdown",
      "metadata": {
        "id": "qnzmTKwRXgZM",
        "colab_type": "text"
      },
      "source": [
        "# Compilamos nuestro modelo"
      ]
    },
    {
      "cell_type": "code",
      "metadata": {
        "id": "9u1ecY3AXiGT",
        "colab_type": "code",
        "colab": {}
      },
      "source": [
        "model.compile(optimizer='sgd',\n",
        "              loss='sparse_categorical_crossentropy',\n",
        "              metrics=['accuracy'])"
      ],
      "execution_count": 0,
      "outputs": []
    },
    {
      "cell_type": "markdown",
      "metadata": {
        "id": "TUtXOx_YYOxi",
        "colab_type": "text"
      },
      "source": [
        "# Entrenamos nuestro modelo"
      ]
    },
    {
      "cell_type": "code",
      "metadata": {
        "id": "1ItG-dffYQ4r",
        "colab_type": "code",
        "outputId": "a0bd45c1-5770-4fda-8657-0529a37d1220",
        "colab": {
          "base_uri": "https://localhost:8080/",
          "height": 417
        }
      },
      "source": [
        "model.fit(train_images, train_labels, epochs=10,batch_size=128,verbose=1)"
      ],
      "execution_count": 20,
      "outputs": [
        {
          "output_type": "stream",
          "text": [
            "Train on 60000 samples\n",
            "Epoch 1/10\n",
            "60000/60000 [==============================] - 23s 382us/sample - loss: 1.7290 - accuracy: 0.3679\n",
            "Epoch 2/10\n",
            "60000/60000 [==============================] - 22s 372us/sample - loss: 0.7552 - accuracy: 0.7131\n",
            "Epoch 3/10\n",
            "60000/60000 [==============================] - 22s 372us/sample - loss: 0.6238 - accuracy: 0.7623\n",
            "Epoch 4/10\n",
            "60000/60000 [==============================] - 22s 372us/sample - loss: 0.5652 - accuracy: 0.7895\n",
            "Epoch 5/10\n",
            "60000/60000 [==============================] - 22s 372us/sample - loss: 0.5259 - accuracy: 0.8068\n",
            "Epoch 6/10\n",
            "60000/60000 [==============================] - 22s 369us/sample - loss: 0.5016 - accuracy: 0.8161\n",
            "Epoch 7/10\n",
            "60000/60000 [==============================] - 22s 369us/sample - loss: 0.4830 - accuracy: 0.8228\n",
            "Epoch 8/10\n",
            "60000/60000 [==============================] - 22s 367us/sample - loss: 0.4659 - accuracy: 0.8312\n",
            "Epoch 9/10\n",
            "60000/60000 [==============================] - 22s 370us/sample - loss: 0.4525 - accuracy: 0.8368\n",
            "Epoch 10/10\n",
            "60000/60000 [==============================] - 22s 372us/sample - loss: 0.4399 - accuracy: 0.8431\n"
          ],
          "name": "stdout"
        },
        {
          "output_type": "execute_result",
          "data": {
            "text/plain": [
              "<tensorflow.python.keras.callbacks.History at 0x7f593da3e908>"
            ]
          },
          "metadata": {
            "tags": []
          },
          "execution_count": 20
        }
      ]
    },
    {
      "cell_type": "markdown",
      "metadata": {
        "id": "qqeOwCK3eYQq",
        "colab_type": "text"
      },
      "source": [
        "# Desempeño del modelo"
      ]
    },
    {
      "cell_type": "code",
      "metadata": {
        "id": "SbdLg6-SYWsS",
        "colab_type": "code",
        "outputId": "1adc7836-56ab-443a-ebbf-0e8d738bf53e",
        "colab": {
          "base_uri": "https://localhost:8080/",
          "height": 72
        }
      },
      "source": [
        "test_loss, test_acc = model.evaluate(test_images,  test_labels, verbose=2)\n",
        "\n",
        "print('\\nTest accuracy:', test_acc)"
      ],
      "execution_count": 21,
      "outputs": [
        {
          "output_type": "stream",
          "text": [
            "10000/10000 - 2s - loss: 0.4650 - accuracy: 0.8321\n",
            "\n",
            "Test accuracy: 0.8321\n"
          ],
          "name": "stdout"
        }
      ]
    },
    {
      "cell_type": "markdown",
      "metadata": {
        "id": "HUEw9KGYe9Iy",
        "colab_type": "text"
      },
      "source": [
        "# Predicciones del modelo"
      ]
    },
    {
      "cell_type": "code",
      "metadata": {
        "id": "iVYfRB_JJVTu",
        "colab_type": "code",
        "colab": {}
      },
      "source": [
        "predictions = model.predict(test_images)"
      ],
      "execution_count": 0,
      "outputs": []
    },
    {
      "cell_type": "code",
      "metadata": {
        "id": "QkCSW8wEJVWb",
        "colab_type": "code",
        "outputId": "6269aba3-4e55-43c7-b7c9-b38ccc30a5b8",
        "colab": {
          "base_uri": "https://localhost:8080/",
          "height": 35
        }
      },
      "source": [
        "np.argmax(predictions[5])"
      ],
      "execution_count": 23,
      "outputs": [
        {
          "output_type": "execute_result",
          "data": {
            "text/plain": [
              "1"
            ]
          },
          "metadata": {
            "tags": []
          },
          "execution_count": 23
        }
      ]
    },
    {
      "cell_type": "code",
      "metadata": {
        "id": "jsn_OP5pJVvU",
        "colab_type": "code",
        "outputId": "d0c66878-8524-4b8e-fe28-56cb3b70f5fe",
        "colab": {
          "base_uri": "https://localhost:8080/",
          "height": 35
        }
      },
      "source": [
        "test_labels[5]"
      ],
      "execution_count": 24,
      "outputs": [
        {
          "output_type": "execute_result",
          "data": {
            "text/plain": [
              "1"
            ]
          },
          "metadata": {
            "tags": []
          },
          "execution_count": 24
        }
      ]
    },
    {
      "cell_type": "code",
      "metadata": {
        "id": "HkzSGA4WgBGz",
        "colab_type": "code",
        "outputId": "57e27535-df7f-4663-ff69-7f3c7eb9e95f",
        "colab": {
          "base_uri": "https://localhost:8080/",
          "height": 35
        }
      },
      "source": [
        "predictions.shape"
      ],
      "execution_count": 25,
      "outputs": [
        {
          "output_type": "execute_result",
          "data": {
            "text/plain": [
              "(10000, 10)"
            ]
          },
          "metadata": {
            "tags": []
          },
          "execution_count": 25
        }
      ]
    },
    {
      "cell_type": "code",
      "metadata": {
        "id": "bMEj2i2dgGBw",
        "colab_type": "code",
        "outputId": "5d26dcaa-5431-4b9b-c51f-19d1434c226b",
        "colab": {
          "base_uri": "https://localhost:8080/",
          "height": 72
        }
      },
      "source": [
        "predictions[0]"
      ],
      "execution_count": 26,
      "outputs": [
        {
          "output_type": "execute_result",
          "data": {
            "text/plain": [
              "array([3.8455073e-06, 1.4248772e-08, 7.8447357e-08, 3.4876152e-07,\n",
              "       1.5648848e-07, 5.6195408e-02, 5.6213736e-07, 1.1609547e-01,\n",
              "       7.0761342e-04, 8.2699645e-01], dtype=float32)"
            ]
          },
          "metadata": {
            "tags": []
          },
          "execution_count": 26
        }
      ]
    },
    {
      "cell_type": "markdown",
      "metadata": {
        "id": "69NKRyi9hZwR",
        "colab_type": "text"
      },
      "source": [
        "# Transformamos nuestra imagen"
      ]
    },
    {
      "cell_type": "code",
      "metadata": {
        "id": "y3JeocyKhDAs",
        "colab_type": "code",
        "outputId": "352f88f0-00cf-4418-976b-c12f982a0c56",
        "colab": {
          "base_uri": "https://localhost:8080/",
          "height": 35
        }
      },
      "source": [
        "test_images.shape"
      ],
      "execution_count": 27,
      "outputs": [
        {
          "output_type": "execute_result",
          "data": {
            "text/plain": [
              "(10000, 28, 28, 1)"
            ]
          },
          "metadata": {
            "tags": []
          },
          "execution_count": 27
        }
      ]
    },
    {
      "cell_type": "code",
      "metadata": {
        "id": "E8y0FSIBhJIF",
        "colab_type": "code",
        "outputId": "9d02f2d7-550d-44c5-b17c-5c0cb309d120",
        "colab": {
          "base_uri": "https://localhost:8080/",
          "height": 72
        }
      },
      "source": [
        "test_images = test_images.reshape(10000,28,28)\n",
        "\n",
        "print('\\n')\n",
        "print(test_images.shape)"
      ],
      "execution_count": 28,
      "outputs": [
        {
          "output_type": "stream",
          "text": [
            "\n",
            "\n",
            "(10000, 28, 28)\n"
          ],
          "name": "stdout"
        }
      ]
    },
    {
      "cell_type": "markdown",
      "metadata": {
        "id": "0zStgWpmfeQp",
        "colab_type": "text"
      },
      "source": [
        "# Prediccion de todas la clases"
      ]
    },
    {
      "cell_type": "code",
      "metadata": {
        "id": "atakIIVQfhJv",
        "colab_type": "code",
        "colab": {}
      },
      "source": [
        "def plot_image(i, predictions_array, true_label, img):\n",
        "  predictions_array, true_label, img = predictions_array, true_label[i], img[i]\n",
        "  plt.grid(False)\n",
        "  plt.xticks([])\n",
        "  plt.yticks([])\n",
        "\n",
        "  plt.imshow(img, cmap=plt.cm.binary)\n",
        "\n",
        "  predicted_label = np.argmax(predictions_array)\n",
        "  if predicted_label == true_label:\n",
        "    color = 'blue'\n",
        "  else:\n",
        "    color = 'red'\n",
        "\n",
        "  plt.xlabel(\"{} {:2.0f}% ({})\".format(class_names[predicted_label],\n",
        "                                100*np.max(predictions_array),\n",
        "                                class_names[true_label]),\n",
        "                                color=color)\n",
        "\n",
        "def plot_value_array(i, predictions_array, true_label):\n",
        "  predictions_array, true_label = predictions_array, true_label[i]\n",
        "  plt.grid(False)\n",
        "  plt.xticks(range(10))\n",
        "  plt.yticks([])\n",
        "  thisplot = plt.bar(range(10), predictions_array, color=\"#777777\")\n",
        "  plt.ylim([0, 1])\n",
        "  predicted_label = np.argmax(predictions_array)\n",
        "\n",
        "  thisplot[predicted_label].set_color('red')\n",
        "  thisplot[true_label].set_color('blue')"
      ],
      "execution_count": 0,
      "outputs": []
    },
    {
      "cell_type": "markdown",
      "metadata": {
        "id": "d4qmw_A7iBKU",
        "colab_type": "text"
      },
      "source": [
        "<table>\n",
        "  <tr>\n",
        "    <th>Label</th>\n",
        "    <th>Class</th>\n",
        "  </tr>\n",
        "  <tr>\n",
        "    <td>0</td>\n",
        "    <td>T-shirt/top</td>\n",
        "  </tr>\n",
        "  <tr>\n",
        "    <td>1</td>\n",
        "    <td>Trouser</td>\n",
        "  </tr>\n",
        "    <tr>\n",
        "    <td>2</td>\n",
        "    <td>Pullover</td>\n",
        "  </tr>\n",
        "    <tr>\n",
        "    <td>3</td>\n",
        "    <td>Dress</td>\n",
        "  </tr>\n",
        "    <tr>\n",
        "    <td>4</td>\n",
        "    <td>Coat</td>\n",
        "  </tr>\n",
        "    <tr>\n",
        "    <td>5</td>\n",
        "    <td>Sandal</td>\n",
        "  </tr>\n",
        "    <tr>\n",
        "    <td>6</td>\n",
        "    <td>Shirt</td>\n",
        "  </tr>\n",
        "    <tr>\n",
        "    <td>7</td>\n",
        "    <td>Sneaker</td>\n",
        "  </tr>\n",
        "    <tr>\n",
        "    <td>8</td>\n",
        "    <td>Bag</td>\n",
        "  </tr>\n",
        "    <tr>\n",
        "    <td>9</td>\n",
        "    <td>Ankle boot</td>\n",
        "  </tr>\n",
        "</table>\n"
      ]
    },
    {
      "cell_type": "code",
      "metadata": {
        "id": "Jnq_37yFJWCf",
        "colab_type": "code",
        "outputId": "b31b2028-af12-412a-8439-8b5f395ba8e8",
        "colab": {
          "base_uri": "https://localhost:8080/",
          "height": 211
        }
      },
      "source": [
        "i = 25\n",
        "plt.figure(figsize=(6,3))\n",
        "plt.subplot(1,2,1)\n",
        "plot_image(i, predictions[i], test_labels, test_images)\n",
        "plt.subplot(1,2,2)\n",
        "plot_value_array(i, predictions[i],  test_labels)\n",
        "plt.show()"
      ],
      "execution_count": 30,
      "outputs": [
        {
          "output_type": "display_data",
          "data": {
            "image/png": "[encoded data removed]",
            "text/plain": [
              "<Figure size 432x216 with 2 Axes>"
            ]
          },
          "metadata": {
            "tags": []
          }
        }
      ]
    },
    {
      "cell_type": "markdown",
      "metadata": {
        "id": "n4dp0VoHjQ_C",
        "colab_type": "text"
      },
      "source": [
        "# Observaciones\n",
        "\n",
        "Se recomienda probar el desempeño del modelo  con otras arquitecturas para este tipo de imagenes "
      ]
    },
    {
      "cell_type": "markdown",
      "metadata": {
        "id": "knS9-jetjns9",
        "colab_type": "text"
      },
      "source": [
        "# FINAL ......"
      ]
    }
  ]
}