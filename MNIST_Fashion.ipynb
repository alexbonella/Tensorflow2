{
  "nbformat": 4,
  "nbformat_minor": 0,
  "metadata": {
    "colab": {
      "name": "MNIST_Fashion.ipynb",
      "provenance": [],
      "collapsed_sections": [],
      "authorship_tag": "ABX9TyN7kZnagBdglcs74sEyIDHl",
      "include_colab_link": true
    },
    "kernelspec": {
      "name": "python3",
      "display_name": "Python 3"
    },
    "accelerator": "GPU"
  },
  "cells": [
    {
      "cell_type": "markdown",
      "metadata": {
        "id": "view-in-github",
        "colab_type": "text"
      },
      "source": [
        "<a href=\"https://colab.research.google.com/github/alexbonella/Tensorflow2/blob/master/MNIST_Fashion.ipynb\" target=\"_parent\"><img src=\"https://colab.research.google.com/assets/colab-badge.svg\" alt=\"Open In Colab\"/></a>"
      ]
    },
    {
      "cell_type": "code",
      "metadata": {
        "id": "30e5wQ_LKsZv",
        "colab_type": "code",
        "colab": {}
      },
      "source": [
        "# Instalamos Tensorflow"
      ],
      "execution_count": 0,
      "outputs": []
    },
    {
      "cell_type": "code",
      "metadata": {
        "id": "a9AVVAXYB4jO",
        "colab_type": "code",
        "colab": {}
      },
      "source": [
        "#!pip install tensorflow==2.0.0-beta1"
      ],
      "execution_count": 0,
      "outputs": []
    },
    {
      "cell_type": "code",
      "metadata": {
        "id": "_pL2yjiiCOBo",
        "colab_type": "code",
        "outputId": "3b83dcf3-e54e-4676-a0a5-47f592a5be8f",
        "colab": {
          "base_uri": "https://localhost:8080/",
          "height": 35
        }
      },
      "source": [
        "try:\n",
        "  # %tensorflow_version only exists in Colab.\n",
        "  %tensorflow_version 2.x\n",
        "except Exception:\n",
        "  pass"
      ],
      "execution_count": 3,
      "outputs": [
        {
          "output_type": "stream",
          "text": [
            "TensorFlow 2.x selected.\n"
          ],
          "name": "stdout"
        }
      ]
    },
    {
      "cell_type": "code",
      "metadata": {
        "id": "WXHnscmhAscR",
        "colab_type": "code",
        "colab": {}
      },
      "source": [
        "# Importamos librerias "
      ],
      "execution_count": 0,
      "outputs": []
    },
    {
      "cell_type": "code",
      "metadata": {
        "id": "Vqjzf4ZWBjOS",
        "colab_type": "code",
        "outputId": "4e7d4c3a-cf46-4295-e7f7-e5cf2539cbe2",
        "colab": {
          "base_uri": "https://localhost:8080/",
          "height": 35
        }
      },
      "source": [
        "from __future__ import absolute_import, division, print_function, unicode_literals\n",
        "\n",
        "# TensorFlow y tf.keras\n",
        "import tensorflow as tf\n",
        "from tensorflow import keras\n",
        "\n",
        "# Librerias de ayuda\n",
        "import numpy as np\n",
        "import matplotlib.pyplot as plt\n",
        "\n",
        "print(tf.__version__)"
      ],
      "execution_count": 5,
      "outputs": [
        {
          "output_type": "stream",
          "text": [
            "2.1.0\n"
          ],
          "name": "stdout"
        }
      ]
    },
    {
      "cell_type": "markdown",
      "metadata": {
        "id": "dVbZZFP_JiTl",
        "colab_type": "text"
      },
      "source": [
        "# Importamos Dataset Fashion MNIST"
      ]
    },
    {
      "cell_type": "code",
      "metadata": {
        "id": "MPqKzl2SJmFY",
        "colab_type": "code",
        "colab": {}
      },
      "source": [
        "fashion_mnist = keras.datasets.fashion_mnist\n",
        "\n",
        "(train_images, train_labels), (test_images, test_labels) = fashion_mnist.load_data()"
      ],
      "execution_count": 0,
      "outputs": []
    },
    {
      "cell_type": "markdown",
      "metadata": {
        "id": "3wM6f6PKJ8yH",
        "colab_type": "text"
      },
      "source": [
        "# Exploramos el numero de imagenes "
      ]
    },
    {
      "cell_type": "code",
      "metadata": {
        "id": "B6CcW-L3JU8J",
        "colab_type": "code",
        "outputId": "717738b8-5d35-4983-fe43-09733ba5fe4d",
        "colab": {
          "base_uri": "https://localhost:8080/",
          "height": 35
        }
      },
      "source": [
        "len(train_labels) # 6000 imagenes de entrenamiento"
      ],
      "execution_count": 7,
      "outputs": [
        {
          "output_type": "execute_result",
          "data": {
            "text/plain": [
              "60000"
            ]
          },
          "metadata": {
            "tags": []
          },
          "execution_count": 7
        }
      ]
    },
    {
      "cell_type": "code",
      "metadata": {
        "id": "U15TAu1uJvsV",
        "colab_type": "code",
        "outputId": "ba7a3251-7491-431f-b352-f229538edd45",
        "colab": {
          "base_uri": "https://localhost:8080/",
          "height": 35
        }
      },
      "source": [
        "train_labels # 10 etiquetas "
      ],
      "execution_count": 8,
      "outputs": [
        {
          "output_type": "execute_result",
          "data": {
            "text/plain": [
              "array([9, 0, 0, ..., 3, 0, 5], dtype=uint8)"
            ]
          },
          "metadata": {
            "tags": []
          },
          "execution_count": 8
        }
      ]
    },
    {
      "cell_type": "markdown",
      "metadata": {
        "id": "-q8glrHVKJS2",
        "colab_type": "text"
      },
      "source": [
        "# Dimensiones de nuestras imagenes"
      ]
    },
    {
      "cell_type": "code",
      "metadata": {
        "id": "E9kDxKMrKQCG",
        "colab_type": "code",
        "outputId": "b6241cc8-2e99-4b94-f80e-5f3e53954cbe",
        "colab": {
          "base_uri": "https://localhost:8080/",
          "height": 35
        }
      },
      "source": [
        "train_images.shape  # 6000 Imagenes de entrenamiento"
      ],
      "execution_count": 9,
      "outputs": [
        {
          "output_type": "execute_result",
          "data": {
            "text/plain": [
              "(60000, 28, 28)"
            ]
          },
          "metadata": {
            "tags": []
          },
          "execution_count": 9
        }
      ]
    },
    {
      "cell_type": "code",
      "metadata": {
        "id": "2TETS62KJzVr",
        "colab_type": "code",
        "outputId": "6e797def-879e-42b1-9a95-d8bcf8cbd8c8",
        "colab": {
          "base_uri": "https://localhost:8080/",
          "height": 35
        }
      },
      "source": [
        "test_images.shape  # 10000 Imagenes de validación"
      ],
      "execution_count": 10,
      "outputs": [
        {
          "output_type": "execute_result",
          "data": {
            "text/plain": [
              "(10000, 28, 28)"
            ]
          },
          "metadata": {
            "tags": []
          },
          "execution_count": 10
        }
      ]
    },
    {
      "cell_type": "markdown",
      "metadata": {
        "id": "u7S2lHfCKkLn",
        "colab_type": "text"
      },
      "source": [
        "# Visualización de imagen"
      ]
    },
    {
      "cell_type": "code",
      "metadata": {
        "id": "bSuqO-SbKnNA",
        "colab_type": "code",
        "outputId": "f9955b7e-4704-4ce6-ed0c-d594ab5e0ab9",
        "colab": {
          "base_uri": "https://localhost:8080/",
          "height": 265
        }
      },
      "source": [
        "plt.figure()\n",
        "plt.imshow(train_images[1])\n",
        "plt.colorbar()\n",
        "plt.grid(False)\n",
        "plt.show()"
      ],
      "execution_count": 11,
      "outputs": [
        {
          "output_type": "display_data",
          "data": {
            "image/png": "[encoded data removed]",
            "text/plain": [
              "<Figure size 432x288 with 2 Axes>"
            ]
          },
          "metadata": {
            "tags": []
          }
        }
      ]
    },
    {
      "cell_type": "markdown",
      "metadata": {
        "id": "4Ihj7g7YK8Gb",
        "colab_type": "text"
      },
      "source": [
        "# Normalización de nuestro dataset \n",
        "\n",
        "A continuación dividimos nuestras imagenes por 255 para obtener valores entre 0 y 1 "
      ]
    },
    {
      "cell_type": "code",
      "metadata": {
        "id": "nBydLeqxJVCE",
        "colab_type": "code",
        "colab": {}
      },
      "source": [
        "train_images = train_images / 255.0\n",
        "\n",
        "test_images = test_images / 255.0"
      ],
      "execution_count": 0,
      "outputs": []
    },
    {
      "cell_type": "markdown",
      "metadata": {
        "id": "IBQa_TvvLYcU",
        "colab_type": "text"
      },
      "source": [
        "# Visualizamos algunas imagenes para verificar el etiquetado "
      ]
    },
    {
      "cell_type": "code",
      "metadata": {
        "id": "k-QBvawqLvQ6",
        "colab_type": "code",
        "colab": {}
      },
      "source": [
        "class_names = ['T-shirt/top', 'Trouser', 'Pullover', 'Dress', 'Coat',\n",
        "               'Sandal', 'Shirt', 'Sneaker', 'Bag', 'Ankle boot']"
      ],
      "execution_count": 0,
      "outputs": []
    },
    {
      "cell_type": "code",
      "metadata": {
        "id": "n4BHNiGUJVIQ",
        "colab_type": "code",
        "outputId": "98176803-482e-46a5-fdd9-bf7c19c51d27",
        "colab": {
          "base_uri": "https://localhost:8080/",
          "height": 476
        }
      },
      "source": [
        "plt.figure(figsize=(10,10))\n",
        "for i in range(20):\n",
        "    plt.subplot(5,5,i+1)\n",
        "    plt.xticks([])\n",
        "    plt.yticks([])\n",
        "    plt.grid(False)\n",
        "    plt.imshow(train_images[i], cmap=plt.cm.binary)\n",
        "    plt.xlabel(class_names[train_labels[i]])\n",
        "plt.show()"
      ],
      "execution_count": 14,
      "outputs": [
        {
          "output_type": "display_data",
          "data": {
            "image/png": "[encoded data removed]",
            "text/plain": [
              "<Figure size 720x720 with 20 Axes>"
            ]
          },
          "metadata": {
            "tags": []
          }
        }
      ]
    },
    {
      "cell_type": "markdown",
      "metadata": {
        "id": "YMXUziLWaO3b",
        "colab_type": "text"
      },
      "source": [
        "# Transformamos el tamaño de nuestras imagenes\n"
      ]
    },
    {
      "cell_type": "code",
      "metadata": {
        "id": "gSNpOZhZaN0D",
        "colab_type": "code",
        "outputId": "8e33a0ca-7c94-4068-e582-430fb1cec8db",
        "colab": {
          "base_uri": "https://localhost:8080/",
          "height": 90
        }
      },
      "source": [
        "\n",
        "train_images = train_images.reshape(60000,28,28,1)\n",
        "test_images = test_images.reshape(10000,28,28,1)\n",
        "\n",
        "print(train_images.shape)\n",
        "print('\\n')\n",
        "print(test_images.shape)"
      ],
      "execution_count": 15,
      "outputs": [
        {
          "output_type": "stream",
          "text": [
            "(60000, 28, 28, 1)\n",
            "\n",
            "\n",
            "(10000, 28, 28, 1)\n"
          ],
          "name": "stdout"
        }
      ]
    },
    {
      "cell_type": "code",
      "metadata": {
        "id": "OH9lLIhAPuLy",
        "colab_type": "code",
        "colab": {}
      },
      "source": [
        "# Cargamos archivos a Colab \n",
        "\n",
        "#from google.colab import files\n",
        "#uploaded = files.upload()"
      ],
      "execution_count": 0,
      "outputs": []
    },
    {
      "cell_type": "markdown",
      "metadata": {
        "id": "C7MmxZDIT974",
        "colab_type": "text"
      },
      "source": [
        "# Arquitectura LeNet-5\n",
        "\n"
      ]
    },
    {
      "cell_type": "markdown",
      "metadata": {
        "id": "kx6jCIzVTTOw",
        "colab_type": "text"
      },
      "source": [
        "  <tr><td>\n",
        "    <img src=\"https://miro.medium.com/max/4308/1*1TI1aGBZ4dybR6__DI9dzA.png\"\n",
        "         alt=\"Fashion MNIST sprite\"  width=\"600\">\n",
        "  </td></tr>"
      ]
    },
    {
      "cell_type": "markdown",
      "metadata": {
        "id": "Lu0OwLenUuSo",
        "colab_type": "text"
      },
      "source": [
        "**NOTA :** Hacemos uso una arquitectura muy conocida y usada en las redes convolucionales para configurar las capas de nuestro modelo "
      ]
    },
    {
      "cell_type": "code",
      "metadata": {
        "id": "Gob51lIFJVKb",
        "colab_type": "code",
        "colab": {}
      },
      "source": [
        "model = keras.Sequential([\n",
        "    \n",
        "    # CONV1 Y MAX-POOLING1\n",
        "    keras.layers.Conv2D(filters=6, kernel_size=(5,5), activation='relu', input_shape=(28,28,1)),\n",
        "    keras.layers.MaxPool2D(pool_size=(2,2)),\n",
        "    \n",
        "    # CONV2 Y MAX-POOLING2\n",
        "    \n",
        "    keras.layers.Conv2D(filters=16, kernel_size=(5,5), activation='relu'),\n",
        "    keras.layers.MaxPool2D(pool_size=(2,2)),\n",
        "    \n",
        "    # Aplanar, FC1, FC2 y salida\n",
        "    keras.layers.Flatten(),\n",
        "    keras.layers.Dense(120, activation='relu'),\n",
        "    keras.layers.Dense(84, activation='relu'),\n",
        "    keras.layers.Dense(10, activation='softmax')\n",
        "])"
      ],
      "execution_count": 0,
      "outputs": []
    },
    {
      "cell_type": "code",
      "metadata": {
        "id": "b97zIEpFkQ-c",
        "colab_type": "code",
        "outputId": "4c66ab02-9b70-4d5e-ef1c-d879d0466b4a",
        "colab": {
          "base_uri": "https://localhost:8080/",
          "height": 454
        }
      },
      "source": [
        "model.summary()"
      ],
      "execution_count": 18,
      "outputs": [
        {
          "output_type": "stream",
          "text": [
            "Model: \"sequential\"\n",
            "_________________________________________________________________\n",
            "Layer (type)                 Output Shape              Param #   \n",
            "=================================================================\n",
            "conv2d (Conv2D)              (None, 24, 24, 6)         156       \n",
            "_________________________________________________________________\n",
            "max_pooling2d (MaxPooling2D) (None, 12, 12, 6)         0         \n",
            "_________________________________________________________________\n",
            "conv2d_1 (Conv2D)            (None, 8, 8, 16)          2416      \n",
            "_________________________________________________________________\n",
            "max_pooling2d_1 (MaxPooling2 (None, 4, 4, 16)          0         \n",
            "_________________________________________________________________\n",
            "flatten (Flatten)            (None, 256)               0         \n",
            "_________________________________________________________________\n",
            "dense (Dense)                (None, 120)               30840     \n",
            "_________________________________________________________________\n",
            "dense_1 (Dense)              (None, 84)                10164     \n",
            "_________________________________________________________________\n",
            "dense_2 (Dense)              (None, 10)                850       \n",
            "=================================================================\n",
            "Total params: 44,426\n",
            "Trainable params: 44,426\n",
            "Non-trainable params: 0\n",
            "_________________________________________________________________\n"
          ],
          "name": "stdout"
        }
      ]
    },
    {
      "cell_type": "markdown",
      "metadata": {
        "id": "qnzmTKwRXgZM",
        "colab_type": "text"
      },
      "source": [
        "# Compilamos nuestro modelo"
      ]
    },
    {
      "cell_type": "code",
      "metadata": {
        "id": "9u1ecY3AXiGT",
        "colab_type": "code",
        "colab": {}
      },
      "source": [
        "model.compile(optimizer='sgd',\n",
        "              loss='sparse_categorical_crossentropy',\n",
        "              metrics=['accuracy'])"
      ],
      "execution_count": 0,
      "outputs": []
    },
    {
      "cell_type": "markdown",
      "metadata": {
        "id": "TUtXOx_YYOxi",
        "colab_type": "text"
      },
      "source": [
        "# Entrenamos nuestro modelo"
      ]
    },
    {
      "cell_type": "code",
      "metadata": {
        "id": "1ItG-dffYQ4r",
        "colab_type": "code",
        "outputId": "91109c99-d721-45b0-8058-1f3b58e8b3e4",
        "colab": {
          "base_uri": "https://localhost:8080/",
          "height": 1000
        }
      },
      "source": [
        "model.fit(train_images, train_labels, epochs=300,batch_size=128,verbose=1)"
      ],
      "execution_count": 20,
      "outputs": [
        {
          "output_type": "stream",
          "text": [
            "Train on 60000 samples\n",
            "Epoch 1/300\n",
            "60000/60000 [==============================] - 4s 65us/sample - loss: 1.9894 - accuracy: 0.3267\n",
            "Epoch 2/300\n",
            "60000/60000 [==============================] - 2s 28us/sample - loss: 0.8012 - accuracy: 0.7116\n",
            "Epoch 3/300\n",
            "60000/60000 [==============================] - 2s 27us/sample - loss: 0.6386 - accuracy: 0.7640\n",
            "Epoch 4/300\n",
            "60000/60000 [==============================] - 2s 28us/sample - loss: 0.5689 - accuracy: 0.7919\n",
            "Epoch 5/300\n",
            "60000/60000 [==============================] - 2s 27us/sample - loss: 0.5253 - accuracy: 0.8091\n",
            "Epoch 6/300\n",
            "60000/60000 [==============================] - 2s 27us/sample - loss: 0.4930 - accuracy: 0.8222\n",
            "Epoch 7/300\n",
            "60000/60000 [==============================] - 2s 27us/sample - loss: 0.4690 - accuracy: 0.8331\n",
            "Epoch 8/300\n",
            "60000/60000 [==============================] - 2s 27us/sample - loss: 0.4501 - accuracy: 0.8400\n",
            "Epoch 9/300\n",
            "60000/60000 [==============================] - 2s 26us/sample - loss: 0.4355 - accuracy: 0.8457\n",
            "Epoch 10/300\n",
            "60000/60000 [==============================] - 2s 28us/sample - loss: 0.4214 - accuracy: 0.8510\n",
            "Epoch 11/300\n",
            "60000/60000 [==============================] - 2s 28us/sample - loss: 0.4102 - accuracy: 0.8531\n",
            "Epoch 12/300\n",
            "60000/60000 [==============================] - 2s 28us/sample - loss: 0.3998 - accuracy: 0.8567\n",
            "Epoch 13/300\n",
            "60000/60000 [==============================] - 2s 27us/sample - loss: 0.3900 - accuracy: 0.8607\n",
            "Epoch 14/300\n",
            "60000/60000 [==============================] - 2s 27us/sample - loss: 0.3834 - accuracy: 0.8632\n",
            "Epoch 15/300\n",
            "60000/60000 [==============================] - 2s 27us/sample - loss: 0.3747 - accuracy: 0.8652\n",
            "Epoch 16/300\n",
            "60000/60000 [==============================] - 2s 28us/sample - loss: 0.3673 - accuracy: 0.8683\n",
            "Epoch 17/300\n",
            "60000/60000 [==============================] - 2s 27us/sample - loss: 0.3635 - accuracy: 0.8700\n",
            "Epoch 18/300\n",
            "60000/60000 [==============================] - 2s 27us/sample - loss: 0.3567 - accuracy: 0.8735\n",
            "Epoch 19/300\n",
            "60000/60000 [==============================] - 2s 28us/sample - loss: 0.3502 - accuracy: 0.8758\n",
            "Epoch 20/300\n",
            "60000/60000 [==============================] - 2s 27us/sample - loss: 0.3463 - accuracy: 0.8759\n",
            "Epoch 21/300\n",
            "60000/60000 [==============================] - 2s 29us/sample - loss: 0.3409 - accuracy: 0.8778\n",
            "Epoch 22/300\n",
            "60000/60000 [==============================] - 2s 28us/sample - loss: 0.3366 - accuracy: 0.8793\n",
            "Epoch 23/300\n",
            "60000/60000 [==============================] - 2s 28us/sample - loss: 0.3326 - accuracy: 0.8813\n",
            "Epoch 24/300\n",
            "60000/60000 [==============================] - 2s 28us/sample - loss: 0.3282 - accuracy: 0.8827\n",
            "Epoch 25/300\n",
            "60000/60000 [==============================] - 2s 26us/sample - loss: 0.3261 - accuracy: 0.8835\n",
            "Epoch 26/300\n",
            "60000/60000 [==============================] - 2s 27us/sample - loss: 0.3208 - accuracy: 0.8852\n",
            "Epoch 27/300\n",
            "60000/60000 [==============================] - 2s 27us/sample - loss: 0.3175 - accuracy: 0.8863\n",
            "Epoch 28/300\n",
            "60000/60000 [==============================] - 2s 27us/sample - loss: 0.3147 - accuracy: 0.8861\n",
            "Epoch 29/300\n",
            "60000/60000 [==============================] - 2s 27us/sample - loss: 0.3116 - accuracy: 0.8871\n",
            "Epoch 30/300\n",
            "60000/60000 [==============================] - 2s 26us/sample - loss: 0.3083 - accuracy: 0.8893\n",
            "Epoch 31/300\n",
            "60000/60000 [==============================] - 2s 28us/sample - loss: 0.3054 - accuracy: 0.8898\n",
            "Epoch 32/300\n",
            "60000/60000 [==============================] - 2s 28us/sample - loss: 0.3009 - accuracy: 0.8921\n",
            "Epoch 33/300\n",
            "60000/60000 [==============================] - 2s 28us/sample - loss: 0.3005 - accuracy: 0.8914\n",
            "Epoch 34/300\n",
            "60000/60000 [==============================] - 2s 28us/sample - loss: 0.2965 - accuracy: 0.8931\n",
            "Epoch 35/300\n",
            "60000/60000 [==============================] - 2s 27us/sample - loss: 0.2946 - accuracy: 0.8942\n",
            "Epoch 36/300\n",
            "60000/60000 [==============================] - 2s 28us/sample - loss: 0.2930 - accuracy: 0.8938\n",
            "Epoch 37/300\n",
            "60000/60000 [==============================] - 2s 28us/sample - loss: 0.2887 - accuracy: 0.8950\n",
            "Epoch 38/300\n",
            "60000/60000 [==============================] - 2s 28us/sample - loss: 0.2874 - accuracy: 0.8952\n",
            "Epoch 39/300\n",
            "60000/60000 [==============================] - 2s 27us/sample - loss: 0.2848 - accuracy: 0.8973\n",
            "Epoch 40/300\n",
            "60000/60000 [==============================] - 2s 27us/sample - loss: 0.2837 - accuracy: 0.8975\n",
            "Epoch 41/300\n",
            "60000/60000 [==============================] - 2s 26us/sample - loss: 0.2823 - accuracy: 0.8974\n",
            "Epoch 42/300\n",
            "60000/60000 [==============================] - 2s 28us/sample - loss: 0.2784 - accuracy: 0.9005\n",
            "Epoch 43/300\n",
            "60000/60000 [==============================] - 2s 27us/sample - loss: 0.2771 - accuracy: 0.8999\n",
            "Epoch 44/300\n",
            "60000/60000 [==============================] - 2s 27us/sample - loss: 0.2747 - accuracy: 0.9007\n",
            "Epoch 45/300\n",
            "60000/60000 [==============================] - 2s 27us/sample - loss: 0.2734 - accuracy: 0.9005\n",
            "Epoch 46/300\n",
            "60000/60000 [==============================] - 2s 27us/sample - loss: 0.2716 - accuracy: 0.9017\n",
            "Epoch 47/300\n",
            "60000/60000 [==============================] - 2s 28us/sample - loss: 0.2704 - accuracy: 0.9024\n",
            "Epoch 48/300\n",
            "60000/60000 [==============================] - 2s 26us/sample - loss: 0.2679 - accuracy: 0.9036\n",
            "Epoch 49/300\n",
            "60000/60000 [==============================] - 2s 29us/sample - loss: 0.2661 - accuracy: 0.9029\n",
            "Epoch 50/300\n",
            "60000/60000 [==============================] - 2s 27us/sample - loss: 0.2642 - accuracy: 0.9046\n",
            "Epoch 51/300\n",
            "60000/60000 [==============================] - 2s 27us/sample - loss: 0.2627 - accuracy: 0.9049\n",
            "Epoch 52/300\n",
            "60000/60000 [==============================] - 2s 29us/sample - loss: 0.2608 - accuracy: 0.9055\n",
            "Epoch 53/300\n",
            "60000/60000 [==============================] - 2s 28us/sample - loss: 0.2598 - accuracy: 0.9059\n",
            "Epoch 54/300\n",
            "60000/60000 [==============================] - 2s 29us/sample - loss: 0.2572 - accuracy: 0.9072\n",
            "Epoch 55/300\n",
            "60000/60000 [==============================] - 2s 29us/sample - loss: 0.2556 - accuracy: 0.9078\n",
            "Epoch 56/300\n",
            "60000/60000 [==============================] - 2s 29us/sample - loss: 0.2539 - accuracy: 0.9074\n",
            "Epoch 57/300\n",
            "60000/60000 [==============================] - 2s 28us/sample - loss: 0.2536 - accuracy: 0.9075\n",
            "Epoch 58/300\n",
            "60000/60000 [==============================] - 2s 27us/sample - loss: 0.2514 - accuracy: 0.9085\n",
            "Epoch 59/300\n",
            "60000/60000 [==============================] - 2s 28us/sample - loss: 0.2508 - accuracy: 0.9083\n",
            "Epoch 60/300\n",
            "60000/60000 [==============================] - 2s 27us/sample - loss: 0.2483 - accuracy: 0.9103\n",
            "Epoch 61/300\n",
            "60000/60000 [==============================] - 2s 28us/sample - loss: 0.2479 - accuracy: 0.9102\n",
            "Epoch 62/300\n",
            "60000/60000 [==============================] - 2s 27us/sample - loss: 0.2455 - accuracy: 0.9107\n",
            "Epoch 63/300\n",
            "60000/60000 [==============================] - 2s 27us/sample - loss: 0.2436 - accuracy: 0.9106\n",
            "Epoch 64/300\n",
            "60000/60000 [==============================] - 2s 27us/sample - loss: 0.2425 - accuracy: 0.9129\n",
            "Epoch 65/300\n",
            "60000/60000 [==============================] - 2s 29us/sample - loss: 0.2428 - accuracy: 0.9118\n",
            "Epoch 66/300\n",
            "60000/60000 [==============================] - 2s 27us/sample - loss: 0.2403 - accuracy: 0.9130\n",
            "Epoch 67/300\n",
            "60000/60000 [==============================] - 2s 28us/sample - loss: 0.2403 - accuracy: 0.9134\n",
            "Epoch 68/300\n",
            "60000/60000 [==============================] - 2s 27us/sample - loss: 0.2380 - accuracy: 0.9128\n",
            "Epoch 69/300\n",
            "60000/60000 [==============================] - 2s 27us/sample - loss: 0.2360 - accuracy: 0.9137\n",
            "Epoch 70/300\n",
            "60000/60000 [==============================] - 2s 28us/sample - loss: 0.2355 - accuracy: 0.9140\n",
            "Epoch 71/300\n",
            "60000/60000 [==============================] - 2s 28us/sample - loss: 0.2339 - accuracy: 0.9148\n",
            "Epoch 72/300\n",
            "60000/60000 [==============================] - 2s 28us/sample - loss: 0.2332 - accuracy: 0.9140\n",
            "Epoch 73/300\n",
            "60000/60000 [==============================] - 2s 27us/sample - loss: 0.2315 - accuracy: 0.9161\n",
            "Epoch 74/300\n",
            "60000/60000 [==============================] - 2s 28us/sample - loss: 0.2302 - accuracy: 0.9168\n",
            "Epoch 75/300\n",
            "60000/60000 [==============================] - 2s 29us/sample - loss: 0.2289 - accuracy: 0.9164\n",
            "Epoch 76/300\n",
            "60000/60000 [==============================] - 2s 28us/sample - loss: 0.2276 - accuracy: 0.9167\n",
            "Epoch 77/300\n",
            "60000/60000 [==============================] - 2s 26us/sample - loss: 0.2270 - accuracy: 0.9169\n",
            "Epoch 78/300\n",
            "60000/60000 [==============================] - 2s 27us/sample - loss: 0.2247 - accuracy: 0.9185\n",
            "Epoch 79/300\n",
            "60000/60000 [==============================] - 2s 27us/sample - loss: 0.2246 - accuracy: 0.9175\n",
            "Epoch 80/300\n",
            "60000/60000 [==============================] - 2s 29us/sample - loss: 0.2230 - accuracy: 0.9185\n",
            "Epoch 81/300\n",
            "60000/60000 [==============================] - 2s 28us/sample - loss: 0.2219 - accuracy: 0.9198\n",
            "Epoch 82/300\n",
            "60000/60000 [==============================] - 2s 28us/sample - loss: 0.2211 - accuracy: 0.9191\n",
            "Epoch 83/300\n",
            "60000/60000 [==============================] - 2s 29us/sample - loss: 0.2197 - accuracy: 0.9201\n",
            "Epoch 84/300\n",
            "60000/60000 [==============================] - 2s 28us/sample - loss: 0.2187 - accuracy: 0.9197\n",
            "Epoch 85/300\n",
            "60000/60000 [==============================] - 2s 28us/sample - loss: 0.2165 - accuracy: 0.9207\n",
            "Epoch 86/300\n",
            "60000/60000 [==============================] - 2s 27us/sample - loss: 0.2167 - accuracy: 0.9214\n",
            "Epoch 87/300\n",
            "60000/60000 [==============================] - 2s 28us/sample - loss: 0.2160 - accuracy: 0.9207\n",
            "Epoch 88/300\n",
            "60000/60000 [==============================] - 2s 28us/sample - loss: 0.2136 - accuracy: 0.9219\n",
            "Epoch 89/300\n",
            "60000/60000 [==============================] - 2s 27us/sample - loss: 0.2138 - accuracy: 0.9219\n",
            "Epoch 90/300\n",
            "60000/60000 [==============================] - 2s 27us/sample - loss: 0.2110 - accuracy: 0.9231\n",
            "Epoch 91/300\n",
            "60000/60000 [==============================] - 2s 27us/sample - loss: 0.2105 - accuracy: 0.9232\n",
            "Epoch 92/300\n",
            "60000/60000 [==============================] - 2s 28us/sample - loss: 0.2100 - accuracy: 0.9227\n",
            "Epoch 93/300\n",
            "60000/60000 [==============================] - 2s 28us/sample - loss: 0.2077 - accuracy: 0.9235\n",
            "Epoch 94/300\n",
            "60000/60000 [==============================] - 2s 28us/sample - loss: 0.2066 - accuracy: 0.9251\n",
            "Epoch 95/300\n",
            "60000/60000 [==============================] - 2s 27us/sample - loss: 0.2056 - accuracy: 0.9245\n",
            "Epoch 96/300\n",
            "60000/60000 [==============================] - 2s 27us/sample - loss: 0.2056 - accuracy: 0.9246\n",
            "Epoch 97/300\n",
            "60000/60000 [==============================] - 2s 27us/sample - loss: 0.2044 - accuracy: 0.9250\n",
            "Epoch 98/300\n",
            "60000/60000 [==============================] - 2s 28us/sample - loss: 0.2034 - accuracy: 0.9257\n",
            "Epoch 99/300\n",
            "60000/60000 [==============================] - 2s 27us/sample - loss: 0.2023 - accuracy: 0.9263\n",
            "Epoch 100/300\n",
            "60000/60000 [==============================] - 2s 28us/sample - loss: 0.2004 - accuracy: 0.9265\n",
            "Epoch 101/300\n",
            "60000/60000 [==============================] - 2s 28us/sample - loss: 0.1999 - accuracy: 0.9275\n",
            "Epoch 102/300\n",
            "60000/60000 [==============================] - 2s 28us/sample - loss: 0.1991 - accuracy: 0.9268\n",
            "Epoch 103/300\n",
            "60000/60000 [==============================] - 2s 28us/sample - loss: 0.1990 - accuracy: 0.9274\n",
            "Epoch 104/300\n",
            "60000/60000 [==============================] - 2s 27us/sample - loss: 0.1976 - accuracy: 0.9275\n",
            "Epoch 105/300\n",
            "60000/60000 [==============================] - 2s 27us/sample - loss: 0.1961 - accuracy: 0.9278\n",
            "Epoch 106/300\n",
            "60000/60000 [==============================] - 2s 27us/sample - loss: 0.1952 - accuracy: 0.9284\n",
            "Epoch 107/300\n",
            "60000/60000 [==============================] - 2s 27us/sample - loss: 0.1940 - accuracy: 0.9284\n",
            "Epoch 108/300\n",
            "60000/60000 [==============================] - 2s 27us/sample - loss: 0.1941 - accuracy: 0.9286\n",
            "Epoch 109/300\n",
            "60000/60000 [==============================] - 2s 27us/sample - loss: 0.1934 - accuracy: 0.9287\n",
            "Epoch 110/300\n",
            "60000/60000 [==============================] - 2s 28us/sample - loss: 0.1913 - accuracy: 0.9304\n",
            "Epoch 111/300\n",
            "60000/60000 [==============================] - 2s 28us/sample - loss: 0.1902 - accuracy: 0.9310\n",
            "Epoch 112/300\n",
            "60000/60000 [==============================] - 2s 27us/sample - loss: 0.1905 - accuracy: 0.9297\n",
            "Epoch 113/300\n",
            "60000/60000 [==============================] - 2s 27us/sample - loss: 0.1902 - accuracy: 0.9302\n",
            "Epoch 114/300\n",
            "60000/60000 [==============================] - 2s 26us/sample - loss: 0.1883 - accuracy: 0.9311\n",
            "Epoch 115/300\n",
            "60000/60000 [==============================] - 2s 27us/sample - loss: 0.1873 - accuracy: 0.9313\n",
            "Epoch 116/300\n",
            "60000/60000 [==============================] - 2s 27us/sample - loss: 0.1854 - accuracy: 0.9316\n",
            "Epoch 117/300\n",
            "60000/60000 [==============================] - 2s 27us/sample - loss: 0.1857 - accuracy: 0.9317\n",
            "Epoch 118/300\n",
            "60000/60000 [==============================] - 2s 29us/sample - loss: 0.1849 - accuracy: 0.9322\n",
            "Epoch 119/300\n",
            "60000/60000 [==============================] - 2s 28us/sample - loss: 0.1840 - accuracy: 0.9320\n",
            "Epoch 120/300\n",
            "60000/60000 [==============================] - 2s 28us/sample - loss: 0.1829 - accuracy: 0.9337\n",
            "Epoch 121/300\n",
            "60000/60000 [==============================] - 2s 28us/sample - loss: 0.1812 - accuracy: 0.9337\n",
            "Epoch 122/300\n",
            "60000/60000 [==============================] - 2s 28us/sample - loss: 0.1804 - accuracy: 0.9332\n",
            "Epoch 123/300\n",
            "60000/60000 [==============================] - 2s 27us/sample - loss: 0.1795 - accuracy: 0.9348\n",
            "Epoch 124/300\n",
            "60000/60000 [==============================] - 2s 27us/sample - loss: 0.1780 - accuracy: 0.9344\n",
            "Epoch 125/300\n",
            "60000/60000 [==============================] - 2s 27us/sample - loss: 0.1783 - accuracy: 0.9345\n",
            "Epoch 126/300\n",
            "60000/60000 [==============================] - 2s 27us/sample - loss: 0.1772 - accuracy: 0.9345\n",
            "Epoch 127/300\n",
            "60000/60000 [==============================] - 2s 28us/sample - loss: 0.1755 - accuracy: 0.9357\n",
            "Epoch 128/300\n",
            "60000/60000 [==============================] - 2s 27us/sample - loss: 0.1760 - accuracy: 0.9348\n",
            "Epoch 129/300\n",
            "60000/60000 [==============================] - 2s 27us/sample - loss: 0.1742 - accuracy: 0.9367\n",
            "Epoch 130/300\n",
            "60000/60000 [==============================] - 2s 28us/sample - loss: 0.1739 - accuracy: 0.9359\n",
            "Epoch 131/300\n",
            "60000/60000 [==============================] - 2s 28us/sample - loss: 0.1721 - accuracy: 0.9367\n",
            "Epoch 132/300\n",
            "60000/60000 [==============================] - 2s 28us/sample - loss: 0.1733 - accuracy: 0.9360\n",
            "Epoch 133/300\n",
            "60000/60000 [==============================] - 2s 27us/sample - loss: 0.1721 - accuracy: 0.9364\n",
            "Epoch 134/300\n",
            "60000/60000 [==============================] - 2s 28us/sample - loss: 0.1717 - accuracy: 0.9370\n",
            "Epoch 135/300\n",
            "60000/60000 [==============================] - 2s 27us/sample - loss: 0.1685 - accuracy: 0.9385\n",
            "Epoch 136/300\n",
            "60000/60000 [==============================] - 2s 27us/sample - loss: 0.1692 - accuracy: 0.9378\n",
            "Epoch 137/300\n",
            "60000/60000 [==============================] - 2s 28us/sample - loss: 0.1680 - accuracy: 0.9386\n",
            "Epoch 138/300\n",
            "60000/60000 [==============================] - 2s 27us/sample - loss: 0.1682 - accuracy: 0.9389\n",
            "Epoch 139/300\n",
            "60000/60000 [==============================] - 2s 27us/sample - loss: 0.1662 - accuracy: 0.9388\n",
            "Epoch 140/300\n",
            "60000/60000 [==============================] - 2s 27us/sample - loss: 0.1661 - accuracy: 0.9399\n",
            "Epoch 141/300\n",
            "60000/60000 [==============================] - 2s 27us/sample - loss: 0.1657 - accuracy: 0.9390\n",
            "Epoch 142/300\n",
            "60000/60000 [==============================] - 2s 28us/sample - loss: 0.1637 - accuracy: 0.9395\n",
            "Epoch 143/300\n",
            "60000/60000 [==============================] - 2s 27us/sample - loss: 0.1639 - accuracy: 0.9394\n",
            "Epoch 144/300\n",
            "60000/60000 [==============================] - 2s 28us/sample - loss: 0.1627 - accuracy: 0.9409\n",
            "Epoch 145/300\n",
            "60000/60000 [==============================] - 2s 28us/sample - loss: 0.1616 - accuracy: 0.9405\n",
            "Epoch 146/300\n",
            "60000/60000 [==============================] - 2s 28us/sample - loss: 0.1603 - accuracy: 0.9414\n",
            "Epoch 147/300\n",
            "60000/60000 [==============================] - 2s 28us/sample - loss: 0.1606 - accuracy: 0.9416\n",
            "Epoch 148/300\n",
            "60000/60000 [==============================] - 2s 28us/sample - loss: 0.1597 - accuracy: 0.9410\n",
            "Epoch 149/300\n",
            "60000/60000 [==============================] - 2s 27us/sample - loss: 0.1593 - accuracy: 0.9413\n",
            "Epoch 150/300\n",
            "60000/60000 [==============================] - 2s 28us/sample - loss: 0.1577 - accuracy: 0.9432\n",
            "Epoch 151/300\n",
            "60000/60000 [==============================] - 2s 28us/sample - loss: 0.1561 - accuracy: 0.9418\n",
            "Epoch 152/300\n",
            "60000/60000 [==============================] - 2s 27us/sample - loss: 0.1555 - accuracy: 0.9435\n",
            "Epoch 153/300\n",
            "60000/60000 [==============================] - 2s 27us/sample - loss: 0.1553 - accuracy: 0.9430\n",
            "Epoch 154/300\n",
            "60000/60000 [==============================] - 2s 28us/sample - loss: 0.1549 - accuracy: 0.9439\n",
            "Epoch 155/300\n",
            "60000/60000 [==============================] - 2s 27us/sample - loss: 0.1527 - accuracy: 0.9434\n",
            "Epoch 156/300\n",
            "60000/60000 [==============================] - 2s 28us/sample - loss: 0.1538 - accuracy: 0.9434\n",
            "Epoch 157/300\n",
            "60000/60000 [==============================] - 2s 27us/sample - loss: 0.1521 - accuracy: 0.9437\n",
            "Epoch 158/300\n",
            "60000/60000 [==============================] - 2s 27us/sample - loss: 0.1514 - accuracy: 0.9439\n",
            "Epoch 159/300\n",
            "60000/60000 [==============================] - 2s 27us/sample - loss: 0.1507 - accuracy: 0.9448\n",
            "Epoch 160/300\n",
            "60000/60000 [==============================] - 2s 27us/sample - loss: 0.1500 - accuracy: 0.9456\n",
            "Epoch 161/300\n",
            "60000/60000 [==============================] - 2s 29us/sample - loss: 0.1488 - accuracy: 0.9444\n",
            "Epoch 162/300\n",
            "60000/60000 [==============================] - 2s 28us/sample - loss: 0.1494 - accuracy: 0.9445\n",
            "Epoch 163/300\n",
            "60000/60000 [==============================] - 2s 27us/sample - loss: 0.1456 - accuracy: 0.9469\n",
            "Epoch 164/300\n",
            "60000/60000 [==============================] - 2s 28us/sample - loss: 0.1466 - accuracy: 0.9463\n",
            "Epoch 165/300\n",
            "60000/60000 [==============================] - 2s 27us/sample - loss: 0.1456 - accuracy: 0.9475\n",
            "Epoch 166/300\n",
            "60000/60000 [==============================] - 2s 28us/sample - loss: 0.1459 - accuracy: 0.9472\n",
            "Epoch 167/300\n",
            "60000/60000 [==============================] - 2s 28us/sample - loss: 0.1442 - accuracy: 0.9473\n",
            "Epoch 168/300\n",
            "60000/60000 [==============================] - 2s 27us/sample - loss: 0.1449 - accuracy: 0.9474\n",
            "Epoch 169/300\n",
            "60000/60000 [==============================] - 2s 28us/sample - loss: 0.1434 - accuracy: 0.9478\n",
            "Epoch 170/300\n",
            "60000/60000 [==============================] - 2s 28us/sample - loss: 0.1422 - accuracy: 0.9483\n",
            "Epoch 171/300\n",
            "60000/60000 [==============================] - 2s 27us/sample - loss: 0.1414 - accuracy: 0.9479\n",
            "Epoch 172/300\n",
            "60000/60000 [==============================] - 2s 28us/sample - loss: 0.1414 - accuracy: 0.9482\n",
            "Epoch 173/300\n",
            "60000/60000 [==============================] - 2s 27us/sample - loss: 0.1403 - accuracy: 0.9482\n",
            "Epoch 174/300\n",
            "60000/60000 [==============================] - 2s 28us/sample - loss: 0.1390 - accuracy: 0.9497\n",
            "Epoch 175/300\n",
            "60000/60000 [==============================] - 2s 28us/sample - loss: 0.1385 - accuracy: 0.9499\n",
            "Epoch 176/300\n",
            "60000/60000 [==============================] - 2s 28us/sample - loss: 0.1375 - accuracy: 0.9487\n",
            "Epoch 177/300\n",
            "60000/60000 [==============================] - 2s 27us/sample - loss: 0.1365 - accuracy: 0.9505\n",
            "Epoch 178/300\n",
            "60000/60000 [==============================] - 2s 27us/sample - loss: 0.1383 - accuracy: 0.9489\n",
            "Epoch 179/300\n",
            "60000/60000 [==============================] - 2s 28us/sample - loss: 0.1356 - accuracy: 0.9500\n",
            "Epoch 180/300\n",
            "60000/60000 [==============================] - 2s 28us/sample - loss: 0.1352 - accuracy: 0.9500\n",
            "Epoch 181/300\n",
            "60000/60000 [==============================] - 2s 27us/sample - loss: 0.1350 - accuracy: 0.9502\n",
            "Epoch 182/300\n",
            "60000/60000 [==============================] - 2s 27us/sample - loss: 0.1335 - accuracy: 0.9505\n",
            "Epoch 183/300\n",
            "60000/60000 [==============================] - 2s 28us/sample - loss: 0.1336 - accuracy: 0.9507\n",
            "Epoch 184/300\n",
            "60000/60000 [==============================] - 2s 28us/sample - loss: 0.1320 - accuracy: 0.9523\n",
            "Epoch 185/300\n",
            "60000/60000 [==============================] - 2s 28us/sample - loss: 0.1313 - accuracy: 0.9528\n",
            "Epoch 186/300\n",
            "60000/60000 [==============================] - 2s 26us/sample - loss: 0.1321 - accuracy: 0.9513\n",
            "Epoch 187/300\n",
            "60000/60000 [==============================] - 2s 27us/sample - loss: 0.1301 - accuracy: 0.9515\n",
            "Epoch 188/300\n",
            "60000/60000 [==============================] - 2s 28us/sample - loss: 0.1298 - accuracy: 0.9517\n",
            "Epoch 189/300\n",
            "60000/60000 [==============================] - 2s 27us/sample - loss: 0.1289 - accuracy: 0.9528\n",
            "Epoch 190/300\n",
            "60000/60000 [==============================] - 2s 27us/sample - loss: 0.1287 - accuracy: 0.9528\n",
            "Epoch 191/300\n",
            "60000/60000 [==============================] - 2s 26us/sample - loss: 0.1281 - accuracy: 0.9534\n",
            "Epoch 192/300\n",
            "60000/60000 [==============================] - 2s 29us/sample - loss: 0.1276 - accuracy: 0.9528\n",
            "Epoch 193/300\n",
            "60000/60000 [==============================] - 2s 27us/sample - loss: 0.1287 - accuracy: 0.9526\n",
            "Epoch 194/300\n",
            "60000/60000 [==============================] - 2s 27us/sample - loss: 0.1262 - accuracy: 0.9546\n",
            "Epoch 195/300\n",
            "60000/60000 [==============================] - 2s 28us/sample - loss: 0.1259 - accuracy: 0.9534\n",
            "Epoch 196/300\n",
            "60000/60000 [==============================] - 2s 28us/sample - loss: 0.1254 - accuracy: 0.9536\n",
            "Epoch 197/300\n",
            "60000/60000 [==============================] - 2s 27us/sample - loss: 0.1247 - accuracy: 0.9538\n",
            "Epoch 198/300\n",
            "60000/60000 [==============================] - 2s 27us/sample - loss: 0.1224 - accuracy: 0.9552\n",
            "Epoch 199/300\n",
            "60000/60000 [==============================] - 2s 27us/sample - loss: 0.1223 - accuracy: 0.9553\n",
            "Epoch 200/300\n",
            "60000/60000 [==============================] - 2s 27us/sample - loss: 0.1210 - accuracy: 0.9566\n",
            "Epoch 201/300\n",
            "60000/60000 [==============================] - 2s 27us/sample - loss: 0.1220 - accuracy: 0.9550\n",
            "Epoch 202/300\n",
            "60000/60000 [==============================] - 2s 28us/sample - loss: 0.1192 - accuracy: 0.9564\n",
            "Epoch 203/300\n",
            "60000/60000 [==============================] - 2s 27us/sample - loss: 0.1190 - accuracy: 0.9568\n",
            "Epoch 204/300\n",
            "60000/60000 [==============================] - 2s 27us/sample - loss: 0.1201 - accuracy: 0.9557\n",
            "Epoch 205/300\n",
            "60000/60000 [==============================] - 2s 28us/sample - loss: 0.1173 - accuracy: 0.9575\n",
            "Epoch 206/300\n",
            "60000/60000 [==============================] - 2s 27us/sample - loss: 0.1173 - accuracy: 0.9569\n",
            "Epoch 207/300\n",
            "60000/60000 [==============================] - 2s 27us/sample - loss: 0.1187 - accuracy: 0.9565\n",
            "Epoch 208/300\n",
            "60000/60000 [==============================] - 2s 27us/sample - loss: 0.1172 - accuracy: 0.9568\n",
            "Epoch 209/300\n",
            "60000/60000 [==============================] - 2s 27us/sample - loss: 0.1168 - accuracy: 0.9564\n",
            "Epoch 210/300\n",
            "60000/60000 [==============================] - 2s 27us/sample - loss: 0.1151 - accuracy: 0.9575\n",
            "Epoch 211/300\n",
            "60000/60000 [==============================] - 2s 27us/sample - loss: 0.1162 - accuracy: 0.9568\n",
            "Epoch 212/300\n",
            "60000/60000 [==============================] - 2s 27us/sample - loss: 0.1144 - accuracy: 0.9580\n",
            "Epoch 213/300\n",
            "60000/60000 [==============================] - 2s 28us/sample - loss: 0.1123 - accuracy: 0.9596\n",
            "Epoch 214/300\n",
            "60000/60000 [==============================] - 2s 28us/sample - loss: 0.1140 - accuracy: 0.9582\n",
            "Epoch 215/300\n",
            "60000/60000 [==============================] - 2s 28us/sample - loss: 0.1128 - accuracy: 0.9594\n",
            "Epoch 216/300\n",
            "60000/60000 [==============================] - 2s 28us/sample - loss: 0.1116 - accuracy: 0.9589\n",
            "Epoch 217/300\n",
            "60000/60000 [==============================] - 2s 28us/sample - loss: 0.1107 - accuracy: 0.9593\n",
            "Epoch 218/300\n",
            "60000/60000 [==============================] - 2s 28us/sample - loss: 0.1103 - accuracy: 0.9594\n",
            "Epoch 219/300\n",
            "60000/60000 [==============================] - 2s 29us/sample - loss: 0.1091 - accuracy: 0.9609\n",
            "Epoch 220/300\n",
            "60000/60000 [==============================] - 2s 28us/sample - loss: 0.1099 - accuracy: 0.9602\n",
            "Epoch 221/300\n",
            "60000/60000 [==============================] - 2s 27us/sample - loss: 0.1085 - accuracy: 0.9598\n",
            "Epoch 222/300\n",
            "60000/60000 [==============================] - 2s 28us/sample - loss: 0.1077 - accuracy: 0.9605\n",
            "Epoch 223/300\n",
            "60000/60000 [==============================] - 2s 27us/sample - loss: 0.1072 - accuracy: 0.9610\n",
            "Epoch 224/300\n",
            "60000/60000 [==============================] - 2s 28us/sample - loss: 0.1057 - accuracy: 0.9616\n",
            "Epoch 225/300\n",
            "60000/60000 [==============================] - 2s 27us/sample - loss: 0.1054 - accuracy: 0.9610\n",
            "Epoch 226/300\n",
            "60000/60000 [==============================] - 2s 28us/sample - loss: 0.1054 - accuracy: 0.9614\n",
            "Epoch 227/300\n",
            "60000/60000 [==============================] - 2s 27us/sample - loss: 0.1041 - accuracy: 0.9623\n",
            "Epoch 228/300\n",
            "60000/60000 [==============================] - 2s 27us/sample - loss: 0.1048 - accuracy: 0.9614\n",
            "Epoch 229/300\n",
            "60000/60000 [==============================] - 2s 28us/sample - loss: 0.1035 - accuracy: 0.9619\n",
            "Epoch 230/300\n",
            "60000/60000 [==============================] - 2s 26us/sample - loss: 0.1037 - accuracy: 0.9618\n",
            "Epoch 231/300\n",
            "60000/60000 [==============================] - 2s 27us/sample - loss: 0.1024 - accuracy: 0.9631\n",
            "Epoch 232/300\n",
            "60000/60000 [==============================] - 2s 28us/sample - loss: 0.1025 - accuracy: 0.9620\n",
            "Epoch 233/300\n",
            "60000/60000 [==============================] - 2s 28us/sample - loss: 0.1016 - accuracy: 0.9622\n",
            "Epoch 234/300\n",
            "60000/60000 [==============================] - 2s 28us/sample - loss: 0.1003 - accuracy: 0.9638\n",
            "Epoch 235/300\n",
            "60000/60000 [==============================] - 2s 28us/sample - loss: 0.1033 - accuracy: 0.9616\n",
            "Epoch 236/300\n",
            "60000/60000 [==============================] - 2s 27us/sample - loss: 0.1009 - accuracy: 0.9624\n",
            "Epoch 237/300\n",
            "60000/60000 [==============================] - 2s 28us/sample - loss: 0.0989 - accuracy: 0.9636\n",
            "Epoch 238/300\n",
            "60000/60000 [==============================] - 2s 28us/sample - loss: 0.0969 - accuracy: 0.9650\n",
            "Epoch 239/300\n",
            "60000/60000 [==============================] - 2s 28us/sample - loss: 0.0978 - accuracy: 0.9638\n",
            "Epoch 240/300\n",
            "60000/60000 [==============================] - 2s 28us/sample - loss: 0.0966 - accuracy: 0.9647\n",
            "Epoch 241/300\n",
            "60000/60000 [==============================] - 2s 29us/sample - loss: 0.0953 - accuracy: 0.9652\n",
            "Epoch 242/300\n",
            "60000/60000 [==============================] - 2s 30us/sample - loss: 0.0967 - accuracy: 0.9643\n",
            "Epoch 243/300\n",
            "60000/60000 [==============================] - 2s 29us/sample - loss: 0.0950 - accuracy: 0.9654\n",
            "Epoch 244/300\n",
            "60000/60000 [==============================] - 2s 29us/sample - loss: 0.0943 - accuracy: 0.9654\n",
            "Epoch 245/300\n",
            "60000/60000 [==============================] - 2s 28us/sample - loss: 0.0929 - accuracy: 0.9659\n",
            "Epoch 246/300\n",
            "60000/60000 [==============================] - 2s 28us/sample - loss: 0.0928 - accuracy: 0.9662\n",
            "Epoch 247/300\n",
            "60000/60000 [==============================] - 2s 27us/sample - loss: 0.0954 - accuracy: 0.9649\n",
            "Epoch 248/300\n",
            "60000/60000 [==============================] - 2s 26us/sample - loss: 0.0931 - accuracy: 0.9657\n",
            "Epoch 249/300\n",
            "60000/60000 [==============================] - 2s 28us/sample - loss: 0.0916 - accuracy: 0.9662\n",
            "Epoch 250/300\n",
            "60000/60000 [==============================] - 2s 27us/sample - loss: 0.0931 - accuracy: 0.9663\n",
            "Epoch 251/300\n",
            "60000/60000 [==============================] - 2s 28us/sample - loss: 0.0900 - accuracy: 0.9667\n",
            "Epoch 252/300\n",
            "60000/60000 [==============================] - 2s 28us/sample - loss: 0.0917 - accuracy: 0.9667\n",
            "Epoch 253/300\n",
            "60000/60000 [==============================] - 2s 28us/sample - loss: 0.0900 - accuracy: 0.9673\n",
            "Epoch 254/300\n",
            "60000/60000 [==============================] - 2s 27us/sample - loss: 0.0894 - accuracy: 0.9676\n",
            "Epoch 255/300\n",
            "60000/60000 [==============================] - 2s 27us/sample - loss: 0.0883 - accuracy: 0.9672\n",
            "Epoch 256/300\n",
            "60000/60000 [==============================] - 2s 28us/sample - loss: 0.0874 - accuracy: 0.9678\n",
            "Epoch 257/300\n",
            "60000/60000 [==============================] - 2s 27us/sample - loss: 0.0885 - accuracy: 0.9680\n",
            "Epoch 258/300\n",
            "60000/60000 [==============================] - 2s 27us/sample - loss: 0.0867 - accuracy: 0.9680\n",
            "Epoch 259/300\n",
            "60000/60000 [==============================] - 2s 28us/sample - loss: 0.0873 - accuracy: 0.9683\n",
            "Epoch 260/300\n",
            "60000/60000 [==============================] - 2s 29us/sample - loss: 0.0875 - accuracy: 0.9680\n",
            "Epoch 261/300\n",
            "60000/60000 [==============================] - 2s 28us/sample - loss: 0.0865 - accuracy: 0.9677\n",
            "Epoch 262/300\n",
            "60000/60000 [==============================] - 2s 28us/sample - loss: 0.0850 - accuracy: 0.9689\n",
            "Epoch 263/300\n",
            "60000/60000 [==============================] - 2s 29us/sample - loss: 0.0849 - accuracy: 0.9688\n",
            "Epoch 264/300\n",
            "60000/60000 [==============================] - 2s 29us/sample - loss: 0.0829 - accuracy: 0.9699\n",
            "Epoch 265/300\n",
            "60000/60000 [==============================] - 2s 29us/sample - loss: 0.0845 - accuracy: 0.9694\n",
            "Epoch 266/300\n",
            "60000/60000 [==============================] - 2s 30us/sample - loss: 0.0843 - accuracy: 0.9697\n",
            "Epoch 267/300\n",
            "60000/60000 [==============================] - 2s 28us/sample - loss: 0.0816 - accuracy: 0.9704\n",
            "Epoch 268/300\n",
            "60000/60000 [==============================] - 2s 29us/sample - loss: 0.0817 - accuracy: 0.9698\n",
            "Epoch 269/300\n",
            "60000/60000 [==============================] - 2s 28us/sample - loss: 0.0801 - accuracy: 0.9707\n",
            "Epoch 270/300\n",
            "60000/60000 [==============================] - 2s 27us/sample - loss: 0.0814 - accuracy: 0.9706\n",
            "Epoch 271/300\n",
            "60000/60000 [==============================] - 2s 27us/sample - loss: 0.0798 - accuracy: 0.9713\n",
            "Epoch 272/300\n",
            "60000/60000 [==============================] - 2s 27us/sample - loss: 0.0784 - accuracy: 0.9719\n",
            "Epoch 273/300\n",
            "60000/60000 [==============================] - 2s 28us/sample - loss: 0.0813 - accuracy: 0.9697\n",
            "Epoch 274/300\n",
            "60000/60000 [==============================] - 2s 28us/sample - loss: 0.0784 - accuracy: 0.9713\n",
            "Epoch 275/300\n",
            "60000/60000 [==============================] - 2s 28us/sample - loss: 0.0794 - accuracy: 0.9714\n",
            "Epoch 276/300\n",
            "60000/60000 [==============================] - 2s 28us/sample - loss: 0.0802 - accuracy: 0.9710\n",
            "Epoch 277/300\n",
            "60000/60000 [==============================] - 2s 27us/sample - loss: 0.0767 - accuracy: 0.9718\n",
            "Epoch 278/300\n",
            "60000/60000 [==============================] - 2s 26us/sample - loss: 0.0751 - accuracy: 0.9731\n",
            "Epoch 279/300\n",
            "60000/60000 [==============================] - 2s 27us/sample - loss: 0.0781 - accuracy: 0.9717\n",
            "Epoch 280/300\n",
            "60000/60000 [==============================] - 2s 27us/sample - loss: 0.0769 - accuracy: 0.9718\n",
            "Epoch 281/300\n",
            "60000/60000 [==============================] - 2s 28us/sample - loss: 0.0737 - accuracy: 0.9733\n",
            "Epoch 282/300\n",
            "60000/60000 [==============================] - 2s 27us/sample - loss: 0.0745 - accuracy: 0.9728\n",
            "Epoch 283/300\n",
            "60000/60000 [==============================] - 2s 27us/sample - loss: 0.0748 - accuracy: 0.9729\n",
            "Epoch 284/300\n",
            "60000/60000 [==============================] - 2s 27us/sample - loss: 0.0728 - accuracy: 0.9740\n",
            "Epoch 285/300\n",
            "60000/60000 [==============================] - 2s 28us/sample - loss: 0.0739 - accuracy: 0.9736\n",
            "Epoch 286/300\n",
            "60000/60000 [==============================] - 2s 27us/sample - loss: 0.0713 - accuracy: 0.9741\n",
            "Epoch 287/300\n",
            "60000/60000 [==============================] - 2s 28us/sample - loss: 0.0726 - accuracy: 0.9732\n",
            "Epoch 288/300\n",
            "60000/60000 [==============================] - 2s 28us/sample - loss: 0.0732 - accuracy: 0.9730\n",
            "Epoch 289/300\n",
            "60000/60000 [==============================] - 2s 28us/sample - loss: 0.0702 - accuracy: 0.9747\n",
            "Epoch 290/300\n",
            "60000/60000 [==============================] - 2s 28us/sample - loss: 0.0694 - accuracy: 0.9754\n",
            "Epoch 291/300\n",
            "60000/60000 [==============================] - 2s 27us/sample - loss: 0.0703 - accuracy: 0.9743\n",
            "Epoch 292/300\n",
            "60000/60000 [==============================] - 2s 28us/sample - loss: 0.0714 - accuracy: 0.9745\n",
            "Epoch 293/300\n",
            "60000/60000 [==============================] - 2s 27us/sample - loss: 0.0693 - accuracy: 0.9753\n",
            "Epoch 294/300\n",
            "60000/60000 [==============================] - 2s 27us/sample - loss: 0.0706 - accuracy: 0.9741\n",
            "Epoch 295/300\n",
            "60000/60000 [==============================] - 2s 27us/sample - loss: 0.0689 - accuracy: 0.9755\n",
            "Epoch 296/300\n",
            "60000/60000 [==============================] - 2s 27us/sample - loss: 0.0701 - accuracy: 0.9738\n",
            "Epoch 297/300\n",
            "60000/60000 [==============================] - 2s 28us/sample - loss: 0.0666 - accuracy: 0.9758\n",
            "Epoch 298/300\n",
            "60000/60000 [==============================] - 2s 27us/sample - loss: 0.0678 - accuracy: 0.9764\n",
            "Epoch 299/300\n",
            "60000/60000 [==============================] - 2s 28us/sample - loss: 0.0675 - accuracy: 0.9764\n",
            "Epoch 300/300\n",
            "60000/60000 [==============================] - 2s 27us/sample - loss: 0.0676 - accuracy: 0.9754\n"
          ],
          "name": "stdout"
        },
        {
          "output_type": "execute_result",
          "data": {
            "text/plain": [
              "<tensorflow.python.keras.callbacks.History at 0x7f536044a6d8>"
            ]
          },
          "metadata": {
            "tags": []
          },
          "execution_count": 20
        }
      ]
    },
    {
      "cell_type": "markdown",
      "metadata": {
        "id": "qqeOwCK3eYQq",
        "colab_type": "text"
      },
      "source": [
        "# Desempeño del modelo"
      ]
    },
    {
      "cell_type": "code",
      "metadata": {
        "id": "SbdLg6-SYWsS",
        "colab_type": "code",
        "outputId": "d87b42ca-c493-41ce-f376-e718d33101f3",
        "colab": {
          "base_uri": "https://localhost:8080/",
          "height": 72
        }
      },
      "source": [
        "test_loss, test_acc = model.evaluate(test_images,  test_labels, verbose=2)\n",
        "\n",
        "print('\\nTest accuracy:', test_acc)"
      ],
      "execution_count": 21,
      "outputs": [
        {
          "output_type": "stream",
          "text": [
            "10000/10000 - 1s - loss: 0.4987 - accuracy: 0.8937\n",
            "\n",
            "Test accuracy: 0.8937\n"
          ],
          "name": "stdout"
        }
      ]
    },
    {
      "cell_type": "markdown",
      "metadata": {
        "id": "HUEw9KGYe9Iy",
        "colab_type": "text"
      },
      "source": [
        "# Predicciones del modelo"
      ]
    },
    {
      "cell_type": "code",
      "metadata": {
        "id": "iVYfRB_JJVTu",
        "colab_type": "code",
        "colab": {}
      },
      "source": [
        "predictions = model.predict(test_images)"
      ],
      "execution_count": 0,
      "outputs": []
    },
    {
      "cell_type": "code",
      "metadata": {
        "id": "QkCSW8wEJVWb",
        "colab_type": "code",
        "outputId": "d1cba465-0491-449e-cc07-b61773f9f29a",
        "colab": {
          "base_uri": "https://localhost:8080/",
          "height": 35
        }
      },
      "source": [
        "np.argmax(predictions[5])"
      ],
      "execution_count": 23,
      "outputs": [
        {
          "output_type": "execute_result",
          "data": {
            "text/plain": [
              "1"
            ]
          },
          "metadata": {
            "tags": []
          },
          "execution_count": 23
        }
      ]
    },
    {
      "cell_type": "code",
      "metadata": {
        "id": "jsn_OP5pJVvU",
        "colab_type": "code",
        "outputId": "5804874f-c020-4587-e6c2-3800c09b97c5",
        "colab": {
          "base_uri": "https://localhost:8080/",
          "height": 35
        }
      },
      "source": [
        "test_labels[5]"
      ],
      "execution_count": 24,
      "outputs": [
        {
          "output_type": "execute_result",
          "data": {
            "text/plain": [
              "1"
            ]
          },
          "metadata": {
            "tags": []
          },
          "execution_count": 24
        }
      ]
    },
    {
      "cell_type": "code",
      "metadata": {
        "id": "HkzSGA4WgBGz",
        "colab_type": "code",
        "outputId": "c93a174a-0b2b-42b5-891d-79979e1dae0e",
        "colab": {
          "base_uri": "https://localhost:8080/",
          "height": 35
        }
      },
      "source": [
        "predictions.shape"
      ],
      "execution_count": 25,
      "outputs": [
        {
          "output_type": "execute_result",
          "data": {
            "text/plain": [
              "(10000, 10)"
            ]
          },
          "metadata": {
            "tags": []
          },
          "execution_count": 25
        }
      ]
    },
    {
      "cell_type": "code",
      "metadata": {
        "id": "bMEj2i2dgGBw",
        "colab_type": "code",
        "outputId": "429f950d-d73a-4199-f967-5fcaf09e8862",
        "colab": {
          "base_uri": "https://localhost:8080/",
          "height": 72
        }
      },
      "source": [
        "predictions[0]"
      ],
      "execution_count": 26,
      "outputs": [
        {
          "output_type": "execute_result",
          "data": {
            "text/plain": [
              "array([9.3851292e-18, 5.9824914e-23, 2.5505496e-13, 2.0174292e-15,\n",
              "       1.0159031e-14, 1.5459630e-09, 5.8878948e-17, 3.0693183e-05,\n",
              "       6.7275074e-10, 9.9996936e-01], dtype=float32)"
            ]
          },
          "metadata": {
            "tags": []
          },
          "execution_count": 26
        }
      ]
    },
    {
      "cell_type": "markdown",
      "metadata": {
        "id": "69NKRyi9hZwR",
        "colab_type": "text"
      },
      "source": [
        "# Transformamos nuestra imagen"
      ]
    },
    {
      "cell_type": "code",
      "metadata": {
        "id": "y3JeocyKhDAs",
        "colab_type": "code",
        "outputId": "28af8753-d23b-49eb-e5ca-62110c71b580",
        "colab": {
          "base_uri": "https://localhost:8080/",
          "height": 35
        }
      },
      "source": [
        "test_images.shape"
      ],
      "execution_count": 27,
      "outputs": [
        {
          "output_type": "execute_result",
          "data": {
            "text/plain": [
              "(10000, 28, 28, 1)"
            ]
          },
          "metadata": {
            "tags": []
          },
          "execution_count": 27
        }
      ]
    },
    {
      "cell_type": "code",
      "metadata": {
        "id": "E8y0FSIBhJIF",
        "colab_type": "code",
        "outputId": "0bbd1faa-d703-415c-f419-f5d20b8abbaf",
        "colab": {
          "base_uri": "https://localhost:8080/",
          "height": 72
        }
      },
      "source": [
        "test_images = test_images.reshape(10000,28,28)\n",
        "\n",
        "print('\\n')\n",
        "print(test_images.shape)"
      ],
      "execution_count": 28,
      "outputs": [
        {
          "output_type": "stream",
          "text": [
            "\n",
            "\n",
            "(10000, 28, 28)\n"
          ],
          "name": "stdout"
        }
      ]
    },
    {
      "cell_type": "markdown",
      "metadata": {
        "id": "0zStgWpmfeQp",
        "colab_type": "text"
      },
      "source": [
        "# Prediccion de todas la clases"
      ]
    },
    {
      "cell_type": "code",
      "metadata": {
        "id": "atakIIVQfhJv",
        "colab_type": "code",
        "colab": {}
      },
      "source": [
        "def plot_image(i, predictions_array, true_label, img):\n",
        "  predictions_array, true_label, img = predictions_array, true_label[i], img[i]\n",
        "  plt.grid(False)\n",
        "  plt.xticks([])\n",
        "  plt.yticks([])\n",
        "\n",
        "  plt.imshow(img, cmap=plt.cm.binary)\n",
        "\n",
        "  predicted_label = np.argmax(predictions_array)\n",
        "  if predicted_label == true_label:\n",
        "    color = 'blue'\n",
        "  else:\n",
        "    color = 'red'\n",
        "\n",
        "  plt.xlabel(\"{} {:2.0f}% ({})\".format(class_names[predicted_label],\n",
        "                                100*np.max(predictions_array),\n",
        "                                class_names[true_label]),\n",
        "                                color=color)\n",
        "\n",
        "def plot_value_array(i, predictions_array, true_label):\n",
        "  predictions_array, true_label = predictions_array, true_label[i]\n",
        "  plt.grid(False)\n",
        "  plt.xticks(range(10))\n",
        "  plt.yticks([])\n",
        "  thisplot = plt.bar(range(10), predictions_array, color=\"#777777\")\n",
        "  plt.ylim([0, 1])\n",
        "  predicted_label = np.argmax(predictions_array)\n",
        "\n",
        "  thisplot[predicted_label].set_color('red')\n",
        "  thisplot[true_label].set_color('blue')"
      ],
      "execution_count": 0,
      "outputs": []
    },
    {
      "cell_type": "markdown",
      "metadata": {
        "id": "d4qmw_A7iBKU",
        "colab_type": "text"
      },
      "source": [
        "<table>\n",
        "  <tr>\n",
        "    <th>Label</th>\n",
        "    <th>Class</th>\n",
        "  </tr>\n",
        "  <tr>\n",
        "    <td>0</td>\n",
        "    <td>T-shirt/top</td>\n",
        "  </tr>\n",
        "  <tr>\n",
        "    <td>1</td>\n",
        "    <td>Trouser</td>\n",
        "  </tr>\n",
        "    <tr>\n",
        "    <td>2</td>\n",
        "    <td>Pullover</td>\n",
        "  </tr>\n",
        "    <tr>\n",
        "    <td>3</td>\n",
        "    <td>Dress</td>\n",
        "  </tr>\n",
        "    <tr>\n",
        "    <td>4</td>\n",
        "    <td>Coat</td>\n",
        "  </tr>\n",
        "    <tr>\n",
        "    <td>5</td>\n",
        "    <td>Sandal</td>\n",
        "  </tr>\n",
        "    <tr>\n",
        "    <td>6</td>\n",
        "    <td>Shirt</td>\n",
        "  </tr>\n",
        "    <tr>\n",
        "    <td>7</td>\n",
        "    <td>Sneaker</td>\n",
        "  </tr>\n",
        "    <tr>\n",
        "    <td>8</td>\n",
        "    <td>Bag</td>\n",
        "  </tr>\n",
        "    <tr>\n",
        "    <td>9</td>\n",
        "    <td>Ankle boot</td>\n",
        "  </tr>\n",
        "</table>\n"
      ]
    },
    {
      "cell_type": "markdown",
      "metadata": {
        "id": "6GG0ZAvg23hy",
        "colab_type": "text"
      },
      "source": [
        "# Visualizamos una imagen en particular\n"
      ]
    },
    {
      "cell_type": "code",
      "metadata": {
        "id": "Jnq_37yFJWCf",
        "colab_type": "code",
        "outputId": "916c9cd8-184e-4ae2-bee8-12006a1230c4",
        "colab": {
          "base_uri": "https://localhost:8080/",
          "height": 211
        }
      },
      "source": [
        "i = 24\n",
        "plt.figure(figsize=(6,3))\n",
        "plt.subplot(1,2,1)\n",
        "plot_image(i, predictions[i], test_labels, test_images)\n",
        "plt.subplot(1,2,2)\n",
        "plot_value_array(i, predictions[i],  test_labels)\n",
        "plt.show()"
      ],
      "execution_count": 32,
      "outputs": [
        {
          "output_type": "display_data",
          "data": {
            "image/png": "[encoded data removed]",
            "text/plain": [
              "<Figure size 432x216 with 2 Axes>"
            ]
          },
          "metadata": {
            "tags": []
          }
        }
      ]
    },
    {
      "cell_type": "markdown",
      "metadata": {
        "id": "GDNzUgW22qjJ",
        "colab_type": "text"
      },
      "source": [
        "# Matriz de confusión"
      ]
    },
    {
      "cell_type": "code",
      "metadata": {
        "id": "NtUXnZU42b_d",
        "colab_type": "code",
        "colab": {
          "base_uri": "https://localhost:8080/",
          "height": 297
        },
        "outputId": "d2ed2bc3-1ce6-4645-d226-b477513b56a2"
      },
      "source": [
        "from matriz_confusion import graficar_matriz_de_confusion\n",
        "\n",
        "y_pred = np.argmax(predictions,axis=1)\n",
        "etiquetas = ['0','1','2','3','4','5','6','7','8','9']\n",
        "graficar_matriz_de_confusion(test_labels, y_pred, etiquetas)"
      ],
      "execution_count": 31,
      "outputs": [
        {
          "output_type": "display_data",
          "data": {
            "image/png": "[encoded data removed]",
            "text/plain": [
              "<Figure size 432x288 with 1 Axes>"
            ]
          },
          "metadata": {
            "tags": []
          }
        }
      ]
    },
    {
      "cell_type": "markdown",
      "metadata": {
        "id": "n4dp0VoHjQ_C",
        "colab_type": "text"
      },
      "source": [
        "# Observaciones\n",
        "\n",
        "Como podemos observar en nustra matriz de confusión las categorias que mejor predice nuestro modelo fueron : \n",
        "\n",
        "1. **Pantalón**\n",
        "2. **Bolsos**\n",
        "3. **Sandalias**\n",
        "\n",
        "La categoria que tuvo mas desaciertos fue la categoria ***camisas*** , como recomendación queda probar con otras arquitecturas ya entrenadas y jugar con los parametros de epocas y tamaño de lote , a continuación comparto la siguiente tabla de acuerdo teniendo en cuenta diferentes configuraciones de entrenamiento."
      ]
    },
    {
      "cell_type": "markdown",
      "metadata": {
        "id": "r78vmj__49lU",
        "colab_type": "text"
      },
      "source": [
        "<table>\n",
        "  <tr>\n",
        "    <th>Epocas</th>\n",
        "    <th>Tamaño</th>\n",
        "    <th>Accuracy</th>\n",
        "  </tr>\n",
        "  <tr>\n",
        "    <td>10</td>\n",
        "    <td>128</td>\n",
        "    <td>0.82</td>\n",
        "  </tr>\n",
        "  <tr>\n",
        "    <td>100</td>\n",
        "    <td>128</td>\n",
        "    <td>0.88</td>\n",
        "  </tr>\n",
        "    <tr>\n",
        "    <td>300</td>\n",
        "    <td>128</td>\n",
        "    <td>0.893</td>\n",
        "  </tr>\n",
        "    <tr>\n",
        "\n",
        "</table>"
      ]
    },
    {
      "cell_type": "markdown",
      "metadata": {
        "id": "knS9-jetjns9",
        "colab_type": "text"
      },
      "source": [
        "# FINAL ......"
      ]
    }
  ]
}